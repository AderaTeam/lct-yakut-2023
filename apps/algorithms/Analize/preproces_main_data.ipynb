{
 "cells": [
  {
   "cell_type": "code",
   "execution_count": 1,
   "metadata": {},
   "outputs": [
    {
     "name": "stderr",
     "output_type": "stream",
     "text": [
      "d:\\lct-yakut-2023\\apps\\algorithms\\LofDT\\lib\\site-packages\\tqdm\\auto.py:21: TqdmWarning: IProgress not found. Please update jupyter and ipywidgets. See https://ipywidgets.readthedocs.io/en/stable/user_install.html\n",
      "  from .autonotebook import tqdm as notebook_tqdm\n"
     ]
    }
   ],
   "source": [
    "import pandas as pd\n",
    "import re\n",
    "import tqdm as notebook_tqdm\n",
    "from transformers import AutoModel, AutoTokenizer\n",
    "from razdel import tokenize\n",
    "from string import punctuation\n",
    "import torch\n",
    "\n",
    "punctuation += '—'\n",
    "tokenizer = AutoTokenizer.from_pretrained(\"ai-forever/sbert_large_nlu_ru\")\n",
    "vectorizer = AutoModel.from_pretrained(\"ai-forever/sbert_large_nlu_ru\")\n",
    "with open('../DATA/less_semantic_words.txt', 'r', encoding='utf-8') as f:\n",
    "    stop_words = pd.Series(f.read().split('\\n')).unique()"
   ]
  },
  {
   "cell_type": "code",
   "execution_count": 2,
   "metadata": {},
   "outputs": [],
   "source": [
    "special_regex = re.compile('\\d{2}.\\d{2}.\\d{2}')\n",
    "emoj = re.compile('['\n",
    "                  u'\\U0001F600-\\U0001F64F'\n",
    "                  u'\\U0001F300-\\U0001F5FF'\n",
    "                  u'\\U0001F680-\\U0001F6FF'\n",
    "                  u'\\U0001F1E0-\\U0001F1FF'\n",
    "                  u'\\U00002500-\\U00002BEF'\n",
    "                  u'\\U00002702-\\U000027B0'\n",
    "                  u'\\U000024C2-\\U0001F251'\n",
    "                  u'\\U0001f926-\\U0001f937'\n",
    "                  u'\\U00010000-\\U0010ffff'\n",
    "                  u'\\u2640-\\u2642'\n",
    "                  u'\\u2600-\\u2B55'\n",
    "                  u'\\u200d'\n",
    "                  u'\\u23cf'\n",
    "                  u'\\u23e9'\n",
    "                  u'\\u231a'\n",
    "                  u'\\ufe0f'\n",
    "                  u'\\u3030'\n",
    "                  ']', re.UNICODE)"
   ]
  },
  {
   "cell_type": "code",
   "execution_count": 3,
   "metadata": {},
   "outputs": [
    {
     "data": {
      "text/html": [
       "<div>\n",
       "<style scoped>\n",
       "    .dataframe tbody tr th:only-of-type {\n",
       "        vertical-align: middle;\n",
       "    }\n",
       "\n",
       "    .dataframe tbody tr th {\n",
       "        vertical-align: top;\n",
       "    }\n",
       "\n",
       "    .dataframe thead th {\n",
       "        text-align: right;\n",
       "    }\n",
       "</style>\n",
       "<table border=\"1\" class=\"dataframe\">\n",
       "  <thead>\n",
       "    <tr style=\"text-align: right;\">\n",
       "      <th></th>\n",
       "      <th>Отрасль текстом</th>\n",
       "      <th>Название профессии</th>\n",
       "      <th>Специальности ОКСО - по одной специальности может быть множетсво программ обучения, которые открывают колледжии и вузы. Специальность - то, что написано у тебя в дипломе после окончания одной из программ обучения.</th>\n",
       "      <th>Уровень образования. Цифры в середине кода ОКСО хх.ХХ.хх говорят об образовательном уровне: 03 и 05 - высшее образование, 01 и 02 - среднее профессиональное образование</th>\n",
       "      <th>Описание профессии для 8-9 класса</th>\n",
       "    </tr>\n",
       "    <tr>\n",
       "      <th>№</th>\n",
       "      <th></th>\n",
       "      <th></th>\n",
       "      <th></th>\n",
       "      <th></th>\n",
       "      <th></th>\n",
       "    </tr>\n",
       "  </thead>\n",
       "  <tbody>\n",
       "    <tr>\n",
       "      <th>1</th>\n",
       "      <td>Агропромышленность</td>\n",
       "      <td>Агроном</td>\n",
       "      <td>35.02.05 - Агрономия, 35.03.03 - Агрохимия и а...</td>\n",
       "      <td>SecondaryEducation,HeigherEducation,HeigherEdu...</td>\n",
       "      <td>Выращивает ягоды, овощи, фрукты, грибы, кормов...</td>\n",
       "    </tr>\n",
       "    <tr>\n",
       "      <th>2</th>\n",
       "      <td>Архитектура, строительство и недвижимость</td>\n",
       "      <td>Маркшейдер</td>\n",
       "      <td>05.03.01 - Геология, 21.05.04 - Горное дело, 2...</td>\n",
       "      <td>HeigherEducation,HeigherEducation,HeigherEduca...</td>\n",
       "      <td>Исследует месторождения полезных ископаемых, п...</td>\n",
       "    </tr>\n",
       "    <tr>\n",
       "      <th>3</th>\n",
       "      <td>Архитектура, строительство и недвижимость</td>\n",
       "      <td>Реставратор</td>\n",
       "      <td>07.02.01 - Архитектура, 54.02.04 - Реставрация...</td>\n",
       "      <td>SecondaryEducation,SecondaryEducation,Secondar...</td>\n",
       "      <td>Восстанавливает старинные здания, сооружения и...</td>\n",
       "    </tr>\n",
       "  </tbody>\n",
       "</table>\n",
       "</div>"
      ],
      "text/plain": [
       "                             Отрасль текстом Название профессии  \\\n",
       "№                                                                 \n",
       "1                         Агропромышленность            Агроном   \n",
       "2  Архитектура, строительство и недвижимость         Маркшейдер   \n",
       "3  Архитектура, строительство и недвижимость        Реставратор   \n",
       "\n",
       "  Специальности ОКСО - по одной специальности может быть множетсво программ обучения, которые открывают колледжии и вузы. Специальность - то, что написано у тебя в дипломе после окончания одной из программ обучения.  \\\n",
       "№                                                                                                                                                                                                                         \n",
       "1  35.02.05 - Агрономия, 35.03.03 - Агрохимия и а...                                                                                                                                                                      \n",
       "2  05.03.01 - Геология, 21.05.04 - Горное дело, 2...                                                                                                                                                                      \n",
       "3  07.02.01 - Архитектура, 54.02.04 - Реставрация...                                                                                                                                                                      \n",
       "\n",
       "  Уровень образования. Цифры в середине кода ОКСО хх.ХХ.хх говорят об образовательном уровне: 03 и 05 - высшее образование, 01 и 02 - среднее профессиональное образование  \\\n",
       "№                                                                                                                                                                            \n",
       "1  SecondaryEducation,HeigherEducation,HeigherEdu...                                                                                                                         \n",
       "2  HeigherEducation,HeigherEducation,HeigherEduca...                                                                                                                         \n",
       "3  SecondaryEducation,SecondaryEducation,Secondar...                                                                                                                         \n",
       "\n",
       "                   Описание профессии для 8-9 класса  \n",
       "№                                                     \n",
       "1  Выращивает ягоды, овощи, фрукты, грибы, кормов...  \n",
       "2  Исследует месторождения полезных ископаемых, п...  \n",
       "3  Восстанавливает старинные здания, сооружения и...  "
      ]
     },
     "execution_count": 3,
     "metadata": {},
     "output_type": "execute_result"
    }
   ],
   "source": [
    "data = pd.read_excel('../DATA/Профессии_ОКСО_ ЛЦТ_Профилум.xlsx', index_col='№')\n",
    "data.head(3)"
   ]
  },
  {
   "cell_type": "code",
   "execution_count": 4,
   "metadata": {},
   "outputs": [
    {
     "data": {
      "text/plain": [
       "(50, 5)"
      ]
     },
     "execution_count": 4,
     "metadata": {},
     "output_type": "execute_result"
    }
   ],
   "source": [
    "data.shape"
   ]
  },
  {
   "cell_type": "markdown",
   "metadata": {},
   "source": [
    "# Split iner data"
   ]
  },
  {
   "cell_type": "code",
   "execution_count": 5,
   "metadata": {},
   "outputs": [
    {
     "name": "stdout",
     "output_type": "stream",
     "text": [
      "{'05.03.01': 'Геология', '21.05.04': 'Горное дело', '21.05.02': 'Прикладная геология', '21.05.03': 'Технология геологической разведки'}\n",
      "['HeigherEducation', 'HeigherEducation', 'HeigherEducation', 'HeigherEducation']\n",
      "{'main_task': 'Выращивает ягоды, овощи, фрукты, грибы, кормовые травы и злаковые растения', 'sub_tasks': [' Проверяет почву и оценивает качество семян.', ' Выбирает сорт и культуру для посева.', ' Принимает решение, когда сажать растения и убирать урожай.', ' Организует работу комбайнеров и трактористов: дает им задания и контролирует их выполнение.', ' Увеличивает объем сбора урожая и повышает его качество.'], 'description': 'Представь, что агроном работает на ферме, которая выращивает кукурузу. Специалист обследует почву, изучает погоду и проводит исследования, чтобы узнать, какие удобрения подойдут для кукурузы. Затем он рассказывает фермеру, как и когда применять удобрения. Агроном также проверяет растения на наличие болезней и вредителей. Если он замечает проблемы, то советует фермеру, как обрабатывать кукурузу. Кроме того, агроном помогает фермеру выбрать лучшее время для посева и уборки кукурузы, чтобы получить большой урожай.'}\n"
     ]
    }
   ],
   "source": [
    "def spec_symbols_remove_processor(text: str):\n",
    "    text = re.sub(emoj, '', text)\n",
    "    text = text.replace('\\n', '')\n",
    "    return text\n",
    "    \n",
    "\n",
    "def specials_processor(x):\n",
    "    v = dict()\n",
    "    for i, j in zip(re.findall(special_regex, x), re.split(special_regex, x)[1:]):\n",
    "        v[i] = j.replace(' - ', '')\n",
    "        v[i] = v[i][:-2] if v[i][-2] == ',' else v[i]\n",
    "    return v\n",
    "\n",
    "\n",
    "def data_education_lvl_processor(x):\n",
    "    return x.split(',')\n",
    "\n",
    "\n",
    "def dat_description_processor(x):\n",
    "    x = spec_symbols_remove_processor(x)\n",
    "    s = x.split('<br><br>')\n",
    "    v = dict()\n",
    "    v['main_task'] = s[0]\n",
    "    v['sub_tasks'] = s[1].split('<br>')\n",
    "    v['description'] = s[2].split('<br>')[1]\n",
    "    return v\n",
    "\n",
    "\n",
    "print(specials_processor('05.03.01 - Геология, 21.05.04 - Горное дело, 21.05.02 - Прикладная геология, 21.05.03 - Технология геологической разведки'))\n",
    "print(data_education_lvl_processor('HeigherEducation,HeigherEducation,HeigherEducation,HeigherEducation'))\n",
    "print(data['Описание профессии для 8-9 класса'].apply(dat_description_processor)[1])"
   ]
  },
  {
   "cell_type": "code",
   "execution_count": 6,
   "metadata": {},
   "outputs": [
    {
     "data": {
      "text/html": [
       "<div>\n",
       "<style scoped>\n",
       "    .dataframe tbody tr th:only-of-type {\n",
       "        vertical-align: middle;\n",
       "    }\n",
       "\n",
       "    .dataframe tbody tr th {\n",
       "        vertical-align: top;\n",
       "    }\n",
       "\n",
       "    .dataframe thead th {\n",
       "        text-align: right;\n",
       "    }\n",
       "</style>\n",
       "<table border=\"1\" class=\"dataframe\">\n",
       "  <thead>\n",
       "    <tr style=\"text-align: right;\">\n",
       "      <th></th>\n",
       "      <th>Отрасль текстом</th>\n",
       "      <th>Название профессии</th>\n",
       "      <th>Описание профессии для 8-9 класса</th>\n",
       "      <th>Специальности ОКСО</th>\n",
       "      <th>Уровень образования</th>\n",
       "    </tr>\n",
       "    <tr>\n",
       "      <th>№</th>\n",
       "      <th></th>\n",
       "      <th></th>\n",
       "      <th></th>\n",
       "      <th></th>\n",
       "      <th></th>\n",
       "    </tr>\n",
       "  </thead>\n",
       "  <tbody>\n",
       "    <tr>\n",
       "      <th>1</th>\n",
       "      <td>Агропромышленность</td>\n",
       "      <td>Агроном</td>\n",
       "      <td>{'main_task': 'Выращивает ягоды, овощи, фрукты...</td>\n",
       "      <td>{'35.02.05': 'Агрономия', '35.03.03': 'Агрохим...</td>\n",
       "      <td>[SecondaryEducation, HeigherEducation, Heigher...</td>\n",
       "    </tr>\n",
       "    <tr>\n",
       "      <th>2</th>\n",
       "      <td>Архитектура, строительство и недвижимость</td>\n",
       "      <td>Маркшейдер</td>\n",
       "      <td>{'main_task': 'Исследует месторождения полезны...</td>\n",
       "      <td>{'05.03.01': 'Геология', '21.05.04': 'Горное д...</td>\n",
       "      <td>[HeigherEducation, HeigherEducation, HeigherEd...</td>\n",
       "    </tr>\n",
       "    <tr>\n",
       "      <th>3</th>\n",
       "      <td>Архитектура, строительство и недвижимость</td>\n",
       "      <td>Реставратор</td>\n",
       "      <td>{'main_task': 'Восстанавливает старинные здани...</td>\n",
       "      <td>{'07.02.01': 'Архитектура', '54.02.04': 'Реста...</td>\n",
       "      <td>[SecondaryEducation, SecondaryEducation, Secon...</td>\n",
       "    </tr>\n",
       "  </tbody>\n",
       "</table>\n",
       "</div>"
      ],
      "text/plain": [
       "                             Отрасль текстом Название профессии  \\\n",
       "№                                                                 \n",
       "1                         Агропромышленность            Агроном   \n",
       "2  Архитектура, строительство и недвижимость         Маркшейдер   \n",
       "3  Архитектура, строительство и недвижимость        Реставратор   \n",
       "\n",
       "                   Описание профессии для 8-9 класса  \\\n",
       "№                                                      \n",
       "1  {'main_task': 'Выращивает ягоды, овощи, фрукты...   \n",
       "2  {'main_task': 'Исследует месторождения полезны...   \n",
       "3  {'main_task': 'Восстанавливает старинные здани...   \n",
       "\n",
       "                                  Специальности ОКСО  \\\n",
       "№                                                      \n",
       "1  {'35.02.05': 'Агрономия', '35.03.03': 'Агрохим...   \n",
       "2  {'05.03.01': 'Геология', '21.05.04': 'Горное д...   \n",
       "3  {'07.02.01': 'Архитектура', '54.02.04': 'Реста...   \n",
       "\n",
       "                                 Уровень образования  \n",
       "№                                                     \n",
       "1  [SecondaryEducation, HeigherEducation, Heigher...  \n",
       "2  [HeigherEducation, HeigherEducation, HeigherEd...  \n",
       "3  [SecondaryEducation, SecondaryEducation, Secon...  "
      ]
     },
     "execution_count": 6,
     "metadata": {},
     "output_type": "execute_result"
    }
   ],
   "source": [
    "data_preprocessed = data.copy(deep=1)\n",
    "data_preprocessed['Специальности ОКСО'] = data['Специальности ОКСО - по одной специальности может быть множетсво программ обучения, которые открывают колледжии и вузы. Специальность - то, что написано у тебя в дипломе после окончания одной из программ обучения.'].apply(specials_processor)\n",
    "data_preprocessed['Уровень образования'] = data['Уровень образования. Цифры в середине кода ОКСО хх.ХХ.хх говорят об образовательном уровне: 03 и 05 - высшее образование, 01 и 02 - среднее профессиональное образование'].apply(data_education_lvl_processor)\n",
    "data_preprocessed['Описание профессии для 8-9 класса'] = data['Описание профессии для 8-9 класса'].apply(dat_description_processor)\n",
    "data_preprocessed =data_preprocessed.drop(\n",
    "    [\n",
    "        'Специальности ОКСО - по одной специальности может быть множетсво программ обучения, которые открывают колледжии и вузы. Специальность - то, что написано у тебя в дипломе после окончания одной из программ обучения.',\n",
    "        'Уровень образования. Цифры в середине кода ОКСО хх.ХХ.хх говорят об образовательном уровне: 03 и 05 - высшее образование, 01 и 02 - среднее профессиональное образование',\n",
    "    ],\n",
    "    axis=1\n",
    ")\n",
    "data_preprocessed.head(3)"
   ]
  },
  {
   "cell_type": "markdown",
   "metadata": {},
   "source": [
    "# Descriptions processing"
   ]
  },
  {
   "cell_type": "code",
   "execution_count": 7,
   "metadata": {},
   "outputs": [
    {
     "data": {
      "text/html": [
       "<div>\n",
       "<style scoped>\n",
       "    .dataframe tbody tr th:only-of-type {\n",
       "        vertical-align: middle;\n",
       "    }\n",
       "\n",
       "    .dataframe tbody tr th {\n",
       "        vertical-align: top;\n",
       "    }\n",
       "\n",
       "    .dataframe thead th {\n",
       "        text-align: right;\n",
       "    }\n",
       "</style>\n",
       "<table border=\"1\" class=\"dataframe\">\n",
       "  <thead>\n",
       "    <tr style=\"text-align: right;\">\n",
       "      <th></th>\n",
       "      <th>main_task</th>\n",
       "      <th>sub_tasks</th>\n",
       "      <th>description</th>\n",
       "    </tr>\n",
       "    <tr>\n",
       "      <th>№</th>\n",
       "      <th></th>\n",
       "      <th></th>\n",
       "      <th></th>\n",
       "    </tr>\n",
       "  </thead>\n",
       "  <tbody>\n",
       "    <tr>\n",
       "      <th>1</th>\n",
       "      <td>Выращивает ягоды, овощи, фрукты, грибы, кормов...</td>\n",
       "      <td>[ Проверяет почву и оценивает качество семян.,...</td>\n",
       "      <td>Представь, что агроном работает на ферме, кото...</td>\n",
       "    </tr>\n",
       "    <tr>\n",
       "      <th>2</th>\n",
       "      <td>Исследует месторождения полезных ископаемых, п...</td>\n",
       "      <td>[ Исследует горную местность и определяет нали...</td>\n",
       "      <td>Допустим, в горах строят тоннель для новой жел...</td>\n",
       "    </tr>\n",
       "    <tr>\n",
       "      <th>3</th>\n",
       "      <td>Восстанавливает старинные здания, сооружения и...</td>\n",
       "      <td>[ Изучает и анализирует старинные произведения...</td>\n",
       "      <td>Допустим, в городе есть старинное здание. Рест...</td>\n",
       "    </tr>\n",
       "    <tr>\n",
       "      <th>4</th>\n",
       "      <td>Ремонтирует строительную технику</td>\n",
       "      <td>[ Ремонтирует строительные машины.,  Проводит ...</td>\n",
       "      <td>Допустим, на стройплощадке у экскаватора слома...</td>\n",
       "    </tr>\n",
       "    <tr>\n",
       "      <th>5</th>\n",
       "      <td>Устанавливает и обслуживает системы водоснабже...</td>\n",
       "      <td>[ Соединяет трубы между собой — так он создает...</td>\n",
       "      <td>Допустим, в новом здании нужно установить сист...</td>\n",
       "    </tr>\n",
       "  </tbody>\n",
       "</table>\n",
       "</div>"
      ],
      "text/plain": [
       "                                           main_task  \\\n",
       "№                                                      \n",
       "1  Выращивает ягоды, овощи, фрукты, грибы, кормов...   \n",
       "2  Исследует месторождения полезных ископаемых, п...   \n",
       "3  Восстанавливает старинные здания, сооружения и...   \n",
       "4                   Ремонтирует строительную технику   \n",
       "5  Устанавливает и обслуживает системы водоснабже...   \n",
       "\n",
       "                                           sub_tasks  \\\n",
       "№                                                      \n",
       "1  [ Проверяет почву и оценивает качество семян.,...   \n",
       "2  [ Исследует горную местность и определяет нали...   \n",
       "3  [ Изучает и анализирует старинные произведения...   \n",
       "4  [ Ремонтирует строительные машины.,  Проводит ...   \n",
       "5  [ Соединяет трубы между собой — так он создает...   \n",
       "\n",
       "                                         description  \n",
       "№                                                     \n",
       "1  Представь, что агроном работает на ферме, кото...  \n",
       "2  Допустим, в горах строят тоннель для новой жел...  \n",
       "3  Допустим, в городе есть старинное здание. Рест...  \n",
       "4  Допустим, на стройплощадке у экскаватора слома...  \n",
       "5  Допустим, в новом здании нужно установить сист...  "
      ]
     },
     "execution_count": 7,
     "metadata": {},
     "output_type": "execute_result"
    }
   ],
   "source": [
    "descriptions_df = pd.DataFrame()\n",
    "descriptions_df['main_task'] = data_preprocessed['Описание профессии для 8-9 класса'].apply(lambda a: a['main_task'])\n",
    "descriptions_df['sub_tasks'] = data_preprocessed['Описание профессии для 8-9 класса'].apply(lambda a: a['sub_tasks'])\n",
    "descriptions_df['description'] = data_preprocessed['Описание профессии для 8-9 класса'].apply(lambda a: a['description'])\n",
    "descriptions_df.head()"
   ]
  },
  {
   "cell_type": "code",
   "execution_count": 8,
   "metadata": {},
   "outputs": [
    {
     "data": {
      "text/html": [
       "<div>\n",
       "<style scoped>\n",
       "    .dataframe tbody tr th:only-of-type {\n",
       "        vertical-align: middle;\n",
       "    }\n",
       "\n",
       "    .dataframe tbody tr th {\n",
       "        vertical-align: top;\n",
       "    }\n",
       "\n",
       "    .dataframe thead th {\n",
       "        text-align: right;\n",
       "    }\n",
       "</style>\n",
       "<table border=\"1\" class=\"dataframe\">\n",
       "  <thead>\n",
       "    <tr style=\"text-align: right;\">\n",
       "      <th></th>\n",
       "      <th>Отрасль текстом</th>\n",
       "      <th>Название профессии</th>\n",
       "      <th>Описание профессии для 8-9 класса</th>\n",
       "      <th>Специальности ОКСО</th>\n",
       "      <th>Уровень образования</th>\n",
       "      <th>main_task</th>\n",
       "      <th>sub_tasks</th>\n",
       "      <th>description</th>\n",
       "    </tr>\n",
       "    <tr>\n",
       "      <th>№</th>\n",
       "      <th></th>\n",
       "      <th></th>\n",
       "      <th></th>\n",
       "      <th></th>\n",
       "      <th></th>\n",
       "      <th></th>\n",
       "      <th></th>\n",
       "      <th></th>\n",
       "    </tr>\n",
       "  </thead>\n",
       "  <tbody>\n",
       "    <tr>\n",
       "      <th>1</th>\n",
       "      <td>Агропромышленность</td>\n",
       "      <td>Агроном</td>\n",
       "      <td>{'main_task': 'Выращивает ягоды, овощи, фрукты...</td>\n",
       "      <td>{'35.02.05': 'Агрономия', '35.03.03': 'Агрохим...</td>\n",
       "      <td>[SecondaryEducation, HeigherEducation, Heigher...</td>\n",
       "      <td>Выращивает ягоды, овощи, фрукты, грибы, кормов...</td>\n",
       "      <td>[ Проверяет почву и оценивает качество семян.,...</td>\n",
       "      <td>Представь, что агроном работает на ферме, кото...</td>\n",
       "    </tr>\n",
       "    <tr>\n",
       "      <th>2</th>\n",
       "      <td>Архитектура, строительство и недвижимость</td>\n",
       "      <td>Маркшейдер</td>\n",
       "      <td>{'main_task': 'Исследует месторождения полезны...</td>\n",
       "      <td>{'05.03.01': 'Геология', '21.05.04': 'Горное д...</td>\n",
       "      <td>[HeigherEducation, HeigherEducation, HeigherEd...</td>\n",
       "      <td>Исследует месторождения полезных ископаемых, п...</td>\n",
       "      <td>[ Исследует горную местность и определяет нали...</td>\n",
       "      <td>Допустим, в горах строят тоннель для новой жел...</td>\n",
       "    </tr>\n",
       "    <tr>\n",
       "      <th>3</th>\n",
       "      <td>Архитектура, строительство и недвижимость</td>\n",
       "      <td>Реставратор</td>\n",
       "      <td>{'main_task': 'Восстанавливает старинные здани...</td>\n",
       "      <td>{'07.02.01': 'Архитектура', '54.02.04': 'Реста...</td>\n",
       "      <td>[SecondaryEducation, SecondaryEducation, Secon...</td>\n",
       "      <td>Восстанавливает старинные здания, сооружения и...</td>\n",
       "      <td>[ Изучает и анализирует старинные произведения...</td>\n",
       "      <td>Допустим, в городе есть старинное здание. Рест...</td>\n",
       "    </tr>\n",
       "    <tr>\n",
       "      <th>4</th>\n",
       "      <td>Архитектура, строительство и недвижимость</td>\n",
       "      <td>Слесарь по ремонту строительных машин</td>\n",
       "      <td>{'main_task': 'Ремонтирует строительную техник...</td>\n",
       "      <td>{'23.02.03': 'Техническое обслуживание и ремон...</td>\n",
       "      <td>[SecondaryEducation, SecondaryEducation, Secon...</td>\n",
       "      <td>Ремонтирует строительную технику</td>\n",
       "      <td>[ Ремонтирует строительные машины.,  Проводит ...</td>\n",
       "      <td>Допустим, на стройплощадке у экскаватора слома...</td>\n",
       "    </tr>\n",
       "    <tr>\n",
       "      <th>5</th>\n",
       "      <td>Архитектура, строительство и недвижимость</td>\n",
       "      <td>Монтажник санитарно-технических систем и обору...</td>\n",
       "      <td>{'main_task': 'Устанавливает и обслуживает сис...</td>\n",
       "      <td>{'08.01.26': 'Мастер по ремонту и обслуживанию...</td>\n",
       "      <td>[SecondaryEducation, SecondaryEducation, Secon...</td>\n",
       "      <td>Устанавливает и обслуживает системы водоснабже...</td>\n",
       "      <td>[ Соединяет трубы между собой — так он создает...</td>\n",
       "      <td>Допустим, в новом здании нужно установить сист...</td>\n",
       "    </tr>\n",
       "  </tbody>\n",
       "</table>\n",
       "</div>"
      ],
      "text/plain": [
       "                             Отрасль текстом  \\\n",
       "№                                              \n",
       "1                         Агропромышленность   \n",
       "2  Архитектура, строительство и недвижимость   \n",
       "3  Архитектура, строительство и недвижимость   \n",
       "4  Архитектура, строительство и недвижимость   \n",
       "5  Архитектура, строительство и недвижимость   \n",
       "\n",
       "                                  Название профессии  \\\n",
       "№                                                      \n",
       "1                                            Агроном   \n",
       "2                                         Маркшейдер   \n",
       "3                                        Реставратор   \n",
       "4              Слесарь по ремонту строительных машин   \n",
       "5  Монтажник санитарно-технических систем и обору...   \n",
       "\n",
       "                   Описание профессии для 8-9 класса  \\\n",
       "№                                                      \n",
       "1  {'main_task': 'Выращивает ягоды, овощи, фрукты...   \n",
       "2  {'main_task': 'Исследует месторождения полезны...   \n",
       "3  {'main_task': 'Восстанавливает старинные здани...   \n",
       "4  {'main_task': 'Ремонтирует строительную техник...   \n",
       "5  {'main_task': 'Устанавливает и обслуживает сис...   \n",
       "\n",
       "                                  Специальности ОКСО  \\\n",
       "№                                                      \n",
       "1  {'35.02.05': 'Агрономия', '35.03.03': 'Агрохим...   \n",
       "2  {'05.03.01': 'Геология', '21.05.04': 'Горное д...   \n",
       "3  {'07.02.01': 'Архитектура', '54.02.04': 'Реста...   \n",
       "4  {'23.02.03': 'Техническое обслуживание и ремон...   \n",
       "5  {'08.01.26': 'Мастер по ремонту и обслуживанию...   \n",
       "\n",
       "                                 Уровень образования  \\\n",
       "№                                                      \n",
       "1  [SecondaryEducation, HeigherEducation, Heigher...   \n",
       "2  [HeigherEducation, HeigherEducation, HeigherEd...   \n",
       "3  [SecondaryEducation, SecondaryEducation, Secon...   \n",
       "4  [SecondaryEducation, SecondaryEducation, Secon...   \n",
       "5  [SecondaryEducation, SecondaryEducation, Secon...   \n",
       "\n",
       "                                           main_task  \\\n",
       "№                                                      \n",
       "1  Выращивает ягоды, овощи, фрукты, грибы, кормов...   \n",
       "2  Исследует месторождения полезных ископаемых, п...   \n",
       "3  Восстанавливает старинные здания, сооружения и...   \n",
       "4                   Ремонтирует строительную технику   \n",
       "5  Устанавливает и обслуживает системы водоснабже...   \n",
       "\n",
       "                                           sub_tasks  \\\n",
       "№                                                      \n",
       "1  [ Проверяет почву и оценивает качество семян.,...   \n",
       "2  [ Исследует горную местность и определяет нали...   \n",
       "3  [ Изучает и анализирует старинные произведения...   \n",
       "4  [ Ремонтирует строительные машины.,  Проводит ...   \n",
       "5  [ Соединяет трубы между собой — так он создает...   \n",
       "\n",
       "                                         description  \n",
       "№                                                     \n",
       "1  Представь, что агроном работает на ферме, кото...  \n",
       "2  Допустим, в горах строят тоннель для новой жел...  \n",
       "3  Допустим, в городе есть старинное здание. Рест...  \n",
       "4  Допустим, на стройплощадке у экскаватора слома...  \n",
       "5  Допустим, в новом здании нужно установить сист...  "
      ]
     },
     "execution_count": 8,
     "metadata": {},
     "output_type": "execute_result"
    }
   ],
   "source": [
    "splited_df = pd.concat([data_preprocessed, descriptions_df], axis=1)\n",
    "splited_df.head()\n"
   ]
  },
  {
   "cell_type": "code",
   "execution_count": 9,
   "metadata": {},
   "outputs": [],
   "source": [
    "def clear_from_stopwords(text, sw):\n",
    "    text = text\n",
    "    tokens = list(tokenize(text))\n",
    "    t = []\n",
    "    for i in tokens:\n",
    "        if len(i.text) > 2:\n",
    "            if i.text not in sw:\n",
    "                t.append(i.text)\n",
    "\n",
    "    return ' '.join(t)"
   ]
  },
  {
   "cell_type": "code",
   "execution_count": 10,
   "metadata": {},
   "outputs": [],
   "source": [
    "def clear_from_stopwords_bin(text, sw):\n",
    "    text = text\n",
    "    tokens = list(tokenize(text))\n",
    "    t = []\n",
    "    for i in tokens:\n",
    "        t.append(int(len(i.text) > 2 and i.text not in sw))\n",
    "    return t"
   ]
  },
  {
   "cell_type": "markdown",
   "metadata": {},
   "source": [
    "# Small desc emb"
   ]
  },
  {
   "cell_type": "code",
   "execution_count": 11,
   "metadata": {},
   "outputs": [
    {
     "data": {
      "text/plain": [
       "(65, 42.16, 41.0, 15)"
      ]
     },
     "execution_count": 11,
     "metadata": {},
     "output_type": "execute_result"
    }
   ],
   "source": [
    "cleared_desciptions = splited_df['description'].apply(lambda a: a.lower()).apply(lambda a: clear_from_stopwords(a, sw=stop_words)).apply(lambda a: len(a.split()))\n",
    "cleared_desciptions.max(), cleared_desciptions.mean(), cleared_desciptions.median(), cleared_desciptions.min()"
   ]
  },
  {
   "cell_type": "code",
   "execution_count": 12,
   "metadata": {},
   "outputs": [],
   "source": [
    "enc = tokenizer(splited_df['description'].apply(lambda a: a.lower()).apply(lambda a: clear_from_stopwords(a, sw=stop_words)).to_list(), padding=True, truncation=True, pad_to_multiple_of=65, max_length=65, return_tensors='pt')"
   ]
  },
  {
   "cell_type": "code",
   "execution_count": 13,
   "metadata": {},
   "outputs": [],
   "source": [
    "vec_desc = vectorizer(**enc)[0]"
   ]
  },
  {
   "cell_type": "code",
   "execution_count": 14,
   "metadata": {},
   "outputs": [
    {
     "data": {
      "text/plain": [
       "torch.Size([50, 65, 1024])"
      ]
     },
     "execution_count": 14,
     "metadata": {},
     "output_type": "execute_result"
    }
   ],
   "source": [
    "vec_desc.shape"
   ]
  },
  {
   "cell_type": "code",
   "execution_count": 15,
   "metadata": {},
   "outputs": [],
   "source": [
    "torch.save(vec_desc, '../DATA/small_description_vectors.pt')"
   ]
  },
  {
   "cell_type": "markdown",
   "metadata": {},
   "source": [
    "# large desc emb"
   ]
  },
  {
   "cell_type": "code",
   "execution_count": 16,
   "metadata": {},
   "outputs": [],
   "source": [
    "long_desciptions = (splited_df['main_task'] + splited_df['sub_tasks'].apply(lambda a: '. '.join(a)) + splited_df['description']).apply(lambda a: a.lower()).apply(lambda a: clear_from_stopwords(a, sw=stop_words))"
   ]
  },
  {
   "cell_type": "code",
   "execution_count": 17,
   "metadata": {},
   "outputs": [
    {
     "data": {
      "text/plain": [
       "(110,\n",
       " 76.58,\n",
       " 78.5,\n",
       " 'анализирует данные помочь компании принять правильные решения анализирует большие объемы информации продукте услуге улучшить создает отчеты графики диаграммы показать данные наглядно выводы рекомендации улучшению компании основе данных результатов анализа небольшой ресторан увеличить прибыль бизнес-аналитик начинает работу анализирует данные продажах затратах продукты оплате персонала создает отчеты графиками показать какие блюда напитки приносят прибыли основе данных бизнес-аналитик рекомендации какие блюда добавить какие убрать советует сократить затраты продукты персонал увеличить прибыль ресторана благодаря работе бизнес-аналитика руководство ресторана принимает правильные решения повышает эффективность')"
      ]
     },
     "execution_count": 17,
     "metadata": {},
     "output_type": "execute_result"
    }
   ],
   "source": [
    "cleared_long_desciptions = long_desciptions.apply(lambda a: a.lower()).apply(lambda a: clear_from_stopwords(a, sw=stop_words))\n",
    "cleared_long_desciptions.apply(lambda a: len(a.split())).max(), cleared_long_desciptions.apply(lambda a: len(a.split())).mean(), cleared_long_desciptions.apply(lambda a: len(a.split())).median(), cleared_long_desciptions.min()"
   ]
  },
  {
   "cell_type": "code",
   "execution_count": 18,
   "metadata": {},
   "outputs": [],
   "source": [
    "long_enc = tokenizer(cleared_long_desciptions.to_list(), padding=True, truncation=True, pad_to_multiple_of=80, max_length=80, return_tensors='pt')\n",
    "vec_long_desc = vectorizer(**long_enc)[0]\n",
    "torch.save(vec_desc, '../DATA/long_description_vectors.pt')"
   ]
  },
  {
   "cell_type": "markdown",
   "metadata": {},
   "source": [
    "# Specials processing"
   ]
  },
  {
   "cell_type": "code",
   "execution_count": 19,
   "metadata": {},
   "outputs": [
    {
     "data": {
      "text/html": [
       "<div>\n",
       "<style scoped>\n",
       "    .dataframe tbody tr th:only-of-type {\n",
       "        vertical-align: middle;\n",
       "    }\n",
       "\n",
       "    .dataframe tbody tr th {\n",
       "        vertical-align: top;\n",
       "    }\n",
       "\n",
       "    .dataframe thead th {\n",
       "        text-align: right;\n",
       "    }\n",
       "</style>\n",
       "<table border=\"1\" class=\"dataframe\">\n",
       "  <thead>\n",
       "    <tr style=\"text-align: right;\">\n",
       "      <th></th>\n",
       "      <th>num</th>\n",
       "      <th>name</th>\n",
       "    </tr>\n",
       "  </thead>\n",
       "  <tbody>\n",
       "    <tr>\n",
       "      <th>0</th>\n",
       "      <td>35.02.05</td>\n",
       "      <td>Агрономия</td>\n",
       "    </tr>\n",
       "    <tr>\n",
       "      <th>2</th>\n",
       "      <td>35.03.04</td>\n",
       "      <td>Агрономия</td>\n",
       "    </tr>\n",
       "    <tr>\n",
       "      <th>8</th>\n",
       "      <td>07.02.01</td>\n",
       "      <td>Архитектура</td>\n",
       "    </tr>\n",
       "    <tr>\n",
       "      <th>9</th>\n",
       "      <td>54.02.04</td>\n",
       "      <td>Реставрация</td>\n",
       "    </tr>\n",
       "    <tr>\n",
       "      <th>12</th>\n",
       "      <td>07.03.01</td>\n",
       "      <td>Архитектура</td>\n",
       "    </tr>\n",
       "    <tr>\n",
       "      <th>14</th>\n",
       "      <td>54.03.04</td>\n",
       "      <td>Реставрация</td>\n",
       "    </tr>\n",
       "    <tr>\n",
       "      <th>20</th>\n",
       "      <td>08.01.26</td>\n",
       "      <td>Мастер по ремонту и обслуживанию инженерных си...</td>\n",
       "    </tr>\n",
       "    <tr>\n",
       "      <th>24</th>\n",
       "      <td>08.01.29</td>\n",
       "      <td>Мастер по ремонту и обслуживанию инженерных си...</td>\n",
       "    </tr>\n",
       "    <tr>\n",
       "      <th>66</th>\n",
       "      <td>34.02.01</td>\n",
       "      <td>Сестринское дело</td>\n",
       "    </tr>\n",
       "    <tr>\n",
       "      <th>67</th>\n",
       "      <td>31.02.01</td>\n",
       "      <td>Лечебное дело</td>\n",
       "    </tr>\n",
       "    <tr>\n",
       "      <th>69</th>\n",
       "      <td>34.03.01</td>\n",
       "      <td>Сестринское дело</td>\n",
       "    </tr>\n",
       "    <tr>\n",
       "      <th>70</th>\n",
       "      <td>31.05.01</td>\n",
       "      <td>Лечебное дело</td>\n",
       "    </tr>\n",
       "    <tr>\n",
       "      <th>178</th>\n",
       "      <td>44.03.04</td>\n",
       "      <td>Профессиональное обучение (по отраслям)</td>\n",
       "    </tr>\n",
       "    <tr>\n",
       "      <th>205</th>\n",
       "      <td>44.02.06</td>\n",
       "      <td>Профессиональное обучение (по отраслям)</td>\n",
       "    </tr>\n",
       "  </tbody>\n",
       "</table>\n",
       "</div>"
      ],
      "text/plain": [
       "          num                                               name\n",
       "0    35.02.05                                          Агрономия\n",
       "2    35.03.04                                          Агрономия\n",
       "8    07.02.01                                        Архитектура\n",
       "9    54.02.04                                        Реставрация\n",
       "12   07.03.01                                        Архитектура\n",
       "14   54.03.04                                        Реставрация\n",
       "20   08.01.26  Мастер по ремонту и обслуживанию инженерных си...\n",
       "24   08.01.29  Мастер по ремонту и обслуживанию инженерных си...\n",
       "66   34.02.01                                   Сестринское дело\n",
       "67   31.02.01                                      Лечебное дело\n",
       "69   34.03.01                                   Сестринское дело\n",
       "70   31.05.01                                      Лечебное дело\n",
       "178  44.03.04            Профессиональное обучение (по отраслям)\n",
       "205  44.02.06            Профессиональное обучение (по отраслям)"
      ]
     },
     "execution_count": 19,
     "metadata": {},
     "output_type": "execute_result"
    }
   ],
   "source": [
    "specials_texts = pd.Series(sum(data_preprocessed['Специальности ОКСО'].apply(lambda a: list(a.values())).to_list(), []))\n",
    "specials_nums = pd.Series(sum(data_preprocessed['Специальности ОКСО'].apply(lambda a: list(a.keys())).to_list(), []))\n",
    "specials_df = pd.DataFrame({'num': specials_nums, 'name': specials_texts}).drop_duplicates()\n",
    "specials_df.loc[specials_df['name'].apply(lambda a: specials_df['name'].value_counts()[a]>1), :]\n",
    "# specials_texts.unique().shape, specials_texts.shape, specials_nums.unique()"
   ]
  },
  {
   "cell_type": "code",
   "execution_count": 20,
   "metadata": {},
   "outputs": [
    {
     "data": {
      "text/html": [
       "<div>\n",
       "<style scoped>\n",
       "    .dataframe tbody tr th:only-of-type {\n",
       "        vertical-align: middle;\n",
       "    }\n",
       "\n",
       "    .dataframe tbody tr th {\n",
       "        vertical-align: top;\n",
       "    }\n",
       "\n",
       "    .dataframe thead th {\n",
       "        text-align: right;\n",
       "    }\n",
       "</style>\n",
       "<table border=\"1\" class=\"dataframe\">\n",
       "  <thead>\n",
       "    <tr style=\"text-align: right;\">\n",
       "      <th></th>\n",
       "      <th>num</th>\n",
       "      <th>name</th>\n",
       "      <th>index</th>\n",
       "    </tr>\n",
       "  </thead>\n",
       "  <tbody>\n",
       "    <tr>\n",
       "      <th>0</th>\n",
       "      <td>35.02.05</td>\n",
       "      <td>Агрономия</td>\n",
       "      <td>0</td>\n",
       "    </tr>\n",
       "    <tr>\n",
       "      <th>1</th>\n",
       "      <td>35.03.03</td>\n",
       "      <td>Агрохимия и агропочвоведение</td>\n",
       "      <td>1</td>\n",
       "    </tr>\n",
       "    <tr>\n",
       "      <th>2</th>\n",
       "      <td>35.03.04</td>\n",
       "      <td>Агрономия</td>\n",
       "      <td>2</td>\n",
       "    </tr>\n",
       "    <tr>\n",
       "      <th>3</th>\n",
       "      <td>35.03.05</td>\n",
       "      <td>Садоводство</td>\n",
       "      <td>3</td>\n",
       "    </tr>\n",
       "    <tr>\n",
       "      <th>4</th>\n",
       "      <td>05.03.01</td>\n",
       "      <td>Геология</td>\n",
       "      <td>4</td>\n",
       "    </tr>\n",
       "  </tbody>\n",
       "</table>\n",
       "</div>"
      ],
      "text/plain": [
       "        num                          name  index\n",
       "0  35.02.05                     Агрономия      0\n",
       "1  35.03.03  Агрохимия и агропочвоведение      1\n",
       "2  35.03.04                     Агрономия      2\n",
       "3  35.03.05                   Садоводство      3\n",
       "4  05.03.01                      Геология      4"
      ]
     },
     "execution_count": 20,
     "metadata": {},
     "output_type": "execute_result"
    }
   ],
   "source": [
    "list_of_spec = specials_df.drop_duplicates()\n",
    "list_of_spec['index'] = list(range(list_of_spec.shape[0]))\n",
    "list_of_spec.to_csv('../DATA/list_of_spec.csv', index=0)\n",
    "list_of_spec.head()\n"
   ]
  },
  {
   "cell_type": "code",
   "execution_count": 21,
   "metadata": {},
   "outputs": [],
   "source": [
    "specials_enum = data_preprocessed['Специальности ОКСО'].apply(lambda a: sum([list_of_spec['index'][list_of_spec['num']==i].to_list() for i in a.keys()], []))\n",
    "specials_oh = specials_enum.apply(lambda a: torch.nn.functional.one_hot(torch.tensor(a), list_of_spec.shape[0]).sum(dim=0).unsqueeze(0))\n",
    "data_preprocessed['specials'] = specials_oh"
   ]
  },
  {
   "cell_type": "code",
   "execution_count": 22,
   "metadata": {},
   "outputs": [],
   "source": [
    "d = []\n",
    "for i in list_of_spec['num']:\n",
    "    d.append(' '.join(cleared_long_desciptions[data_preprocessed['Специальности ОКСО'].apply(lambda a: i in a)]))\n"
   ]
  },
  {
   "cell_type": "code",
   "execution_count": 23,
   "metadata": {},
   "outputs": [],
   "source": [
    "list_of_spec['desc'] = d"
   ]
  },
  {
   "cell_type": "code",
   "execution_count": 24,
   "metadata": {},
   "outputs": [],
   "source": [
    "list_of_spec.to_csv('../DATA/spec_num_name_pairs.csv', index=0)"
   ]
  },
  {
   "cell_type": "code",
   "execution_count": 25,
   "metadata": {},
   "outputs": [],
   "source": [
    "# long_enc_spec = tokenizer(d, padding=True, truncation=True, pad_to_multiple_of=512, max_length=512, return_tensors='pt')\n",
    "# vec_long_spec_desc = vectorizer(**long_enc_spec)[0]\n",
    "# torch.save(vec_long_spec_desc, '../DATA/spec_desc_vec.pt')"
   ]
  },
  {
   "cell_type": "code",
   "execution_count": 26,
   "metadata": {},
   "outputs": [],
   "source": [
    "torch.save(torch.cat(data_preprocessed['specials'].to_list()), '../DATA/oh_specials.pt')"
   ]
  }
 ],
 "metadata": {
  "kernelspec": {
   "display_name": "LofDT",
   "language": "python",
   "name": "python3"
  },
  "language_info": {
   "codemirror_mode": {
    "name": "ipython",
    "version": 3
   },
   "file_extension": ".py",
   "mimetype": "text/x-python",
   "name": "python",
   "nbconvert_exporter": "python",
   "pygments_lexer": "ipython3",
   "version": "3.9.2"
  }
 },
 "nbformat": 4,
 "nbformat_minor": 2
}
