{
 "cells": [
  {
   "cell_type": "code",
   "execution_count": 149,
   "metadata": {},
   "outputs": [],
   "source": [
    "import pandas as pd\n",
    "import re\n",
    "import tqdm as notebook_tqdm\n",
    "from transformers import AutoModel, AutoTokenizer\n",
    "from razdel import tokenize\n",
    "from string import punctuation\n",
    "import torch\n",
    "\n",
    "punctuation += '—'\n",
    "tokenizer = AutoTokenizer.from_pretrained(\"ai-forever/sbert_large_nlu_ru\")\n",
    "vectorizer = AutoModel.from_pretrained(\"ai-forever/sbert_large_nlu_ru\")\n",
    "with open('../DATA/less_semantic_words.txt', 'r', encoding='utf-8') as f:\n",
    "    stop_words = pd.Series(f.read().split('\\n')).unique()"
   ]
  },
  {
   "cell_type": "code",
   "execution_count": 133,
   "metadata": {},
   "outputs": [
    {
     "data": {
      "text/plain": [
       "array(['c', 'а', 'алло', ..., 'является', 'ярких', 'ясное'], dtype=object)"
      ]
     },
     "execution_count": 133,
     "metadata": {},
     "output_type": "execute_result"
    }
   ],
   "source": [
    "stop_words"
   ]
  },
  {
   "cell_type": "code",
   "execution_count": null,
   "metadata": {},
   "outputs": [],
   "source": []
  },
  {
   "cell_type": "code",
   "execution_count": 47,
   "metadata": {},
   "outputs": [],
   "source": [
    "special_regex = re.compile('\\d{2}.\\d{2}.\\d{2}')\n",
    "emoj = re.compile('['\n",
    "                  u'\\U0001F600-\\U0001F64F'\n",
    "                  u'\\U0001F300-\\U0001F5FF'\n",
    "                  u'\\U0001F680-\\U0001F6FF'\n",
    "                  u'\\U0001F1E0-\\U0001F1FF'\n",
    "                  u'\\U00002500-\\U00002BEF'\n",
    "                  u'\\U00002702-\\U000027B0'\n",
    "                  u'\\U000024C2-\\U0001F251'\n",
    "                  u'\\U0001f926-\\U0001f937'\n",
    "                  u'\\U00010000-\\U0010ffff'\n",
    "                  u'\\u2640-\\u2642'\n",
    "                  u'\\u2600-\\u2B55'\n",
    "                  u'\\u200d'\n",
    "                  u'\\u23cf'\n",
    "                  u'\\u23e9'\n",
    "                  u'\\u231a'\n",
    "                  u'\\ufe0f'\n",
    "                  u'\\u3030'\n",
    "                  ']', re.UNICODE)"
   ]
  },
  {
   "cell_type": "code",
   "execution_count": 4,
   "metadata": {},
   "outputs": [
    {
     "data": {
      "text/html": [
       "<div>\n",
       "<style scoped>\n",
       "    .dataframe tbody tr th:only-of-type {\n",
       "        vertical-align: middle;\n",
       "    }\n",
       "\n",
       "    .dataframe tbody tr th {\n",
       "        vertical-align: top;\n",
       "    }\n",
       "\n",
       "    .dataframe thead th {\n",
       "        text-align: right;\n",
       "    }\n",
       "</style>\n",
       "<table border=\"1\" class=\"dataframe\">\n",
       "  <thead>\n",
       "    <tr style=\"text-align: right;\">\n",
       "      <th></th>\n",
       "      <th>Отрасль текстом</th>\n",
       "      <th>Название профессии</th>\n",
       "      <th>Специальности ОКСО - по одной специальности может быть множетсво программ обучения, которые открывают колледжии и вузы. Специальность - то, что написано у тебя в дипломе после окончания одной из программ обучения.</th>\n",
       "      <th>Уровень образования. Цифры в середине кода ОКСО хх.ХХ.хх говорят об образовательном уровне: 03 и 05 - высшее образование, 01 и 02 - среднее профессиональное образование</th>\n",
       "      <th>Описание профессии для 8-9 класса</th>\n",
       "    </tr>\n",
       "    <tr>\n",
       "      <th>№</th>\n",
       "      <th></th>\n",
       "      <th></th>\n",
       "      <th></th>\n",
       "      <th></th>\n",
       "      <th></th>\n",
       "    </tr>\n",
       "  </thead>\n",
       "  <tbody>\n",
       "    <tr>\n",
       "      <th>1</th>\n",
       "      <td>Агропромышленность</td>\n",
       "      <td>Агроном</td>\n",
       "      <td>35.02.05 - Агрономия, 35.03.03 - Агрохимия и а...</td>\n",
       "      <td>SecondaryEducation,HeigherEducation,HeigherEdu...</td>\n",
       "      <td>Выращивает ягоды, овощи, фрукты, грибы, кормов...</td>\n",
       "    </tr>\n",
       "    <tr>\n",
       "      <th>2</th>\n",
       "      <td>Архитектура, строительство и недвижимость</td>\n",
       "      <td>Маркшейдер</td>\n",
       "      <td>05.03.01 - Геология, 21.05.04 - Горное дело, 2...</td>\n",
       "      <td>HeigherEducation,HeigherEducation,HeigherEduca...</td>\n",
       "      <td>Исследует месторождения полезных ископаемых, п...</td>\n",
       "    </tr>\n",
       "    <tr>\n",
       "      <th>3</th>\n",
       "      <td>Архитектура, строительство и недвижимость</td>\n",
       "      <td>Реставратор</td>\n",
       "      <td>07.02.01 - Архитектура, 54.02.04 - Реставрация...</td>\n",
       "      <td>SecondaryEducation,SecondaryEducation,Secondar...</td>\n",
       "      <td>Восстанавливает старинные здания, сооружения и...</td>\n",
       "    </tr>\n",
       "  </tbody>\n",
       "</table>\n",
       "</div>"
      ],
      "text/plain": [
       "                             Отрасль текстом Название профессии  \\\n",
       "№                                                                 \n",
       "1                         Агропромышленность            Агроном   \n",
       "2  Архитектура, строительство и недвижимость         Маркшейдер   \n",
       "3  Архитектура, строительство и недвижимость        Реставратор   \n",
       "\n",
       "  Специальности ОКСО - по одной специальности может быть множетсво программ обучения, которые открывают колледжии и вузы. Специальность - то, что написано у тебя в дипломе после окончания одной из программ обучения.  \\\n",
       "№                                                                                                                                                                                                                         \n",
       "1  35.02.05 - Агрономия, 35.03.03 - Агрохимия и а...                                                                                                                                                                      \n",
       "2  05.03.01 - Геология, 21.05.04 - Горное дело, 2...                                                                                                                                                                      \n",
       "3  07.02.01 - Архитектура, 54.02.04 - Реставрация...                                                                                                                                                                      \n",
       "\n",
       "  Уровень образования. Цифры в середине кода ОКСО хх.ХХ.хх говорят об образовательном уровне: 03 и 05 - высшее образование, 01 и 02 - среднее профессиональное образование  \\\n",
       "№                                                                                                                                                                            \n",
       "1  SecondaryEducation,HeigherEducation,HeigherEdu...                                                                                                                         \n",
       "2  HeigherEducation,HeigherEducation,HeigherEduca...                                                                                                                         \n",
       "3  SecondaryEducation,SecondaryEducation,Secondar...                                                                                                                         \n",
       "\n",
       "                   Описание профессии для 8-9 класса  \n",
       "№                                                     \n",
       "1  Выращивает ягоды, овощи, фрукты, грибы, кормов...  \n",
       "2  Исследует месторождения полезных ископаемых, п...  \n",
       "3  Восстанавливает старинные здания, сооружения и...  "
      ]
     },
     "execution_count": 4,
     "metadata": {},
     "output_type": "execute_result"
    }
   ],
   "source": [
    "data = pd.read_excel('../DATA/Профессии_ОКСО_ ЛЦТ_Профилум.xlsx', index_col='№')\n",
    "data.head(3)"
   ]
  },
  {
   "cell_type": "code",
   "execution_count": 121,
   "metadata": {},
   "outputs": [
    {
     "data": {
      "text/plain": [
       "(50, 5)"
      ]
     },
     "execution_count": 121,
     "metadata": {},
     "output_type": "execute_result"
    }
   ],
   "source": [
    "data.shape"
   ]
  },
  {
   "cell_type": "markdown",
   "metadata": {},
   "source": [
    "# Split iner data"
   ]
  },
  {
   "cell_type": "code",
   "execution_count": 101,
   "metadata": {},
   "outputs": [
    {
     "name": "stdout",
     "output_type": "stream",
     "text": [
      "{'05.03.01': 'Геология', '21.05.04': 'Горное дело', '21.05.02': 'Прикладная геология', '21.05.03': 'Технология геологической разведки'}\n",
      "['HeigherEducation', 'HeigherEducation', 'HeigherEducation', 'HeigherEducation']\n",
      "{'main_task': 'Выращивает ягоды, овощи, фрукты, грибы, кормовые травы и злаковые растения', 'sub_tasks': [' Проверяет почву и оценивает качество семян.', ' Выбирает сорт и культуру для посева.', ' Принимает решение, когда сажать растения и убирать урожай.', ' Организует работу комбайнеров и трактористов: дает им задания и контролирует их выполнение.', ' Увеличивает объем сбора урожая и повышает его качество.'], 'description': 'Представь, что агроном работает на ферме, которая выращивает кукурузу. Специалист обследует почву, изучает погоду и проводит исследования, чтобы узнать, какие удобрения подойдут для кукурузы. Затем он рассказывает фермеру, как и когда применять удобрения. Агроном также проверяет растения на наличие болезней и вредителей. Если он замечает проблемы, то советует фермеру, как обрабатывать кукурузу. Кроме того, агроном помогает фермеру выбрать лучшее время для посева и уборки кукурузы, чтобы получить большой урожай.'}\n"
     ]
    }
   ],
   "source": [
    "def spec_symbols_remove_processor(text: str):\n",
    "    text = re.sub(emoj, '', text)\n",
    "    text = text.replace('\\n', '')\n",
    "    return text\n",
    "    \n",
    "\n",
    "def specials_processor(x):\n",
    "    v = dict()\n",
    "    for i, j in zip(re.findall(special_regex, x), re.split(special_regex, x)[1:]):\n",
    "        v[i] = j.replace(' - ', '')\n",
    "        v[i] = v[i][:-2] if v[i][-2] == ',' else v[i]\n",
    "    return v\n",
    "\n",
    "\n",
    "def data_education_lvl_processor(x):\n",
    "    return x.split(',')\n",
    "\n",
    "\n",
    "def dat_description_processor(x):\n",
    "    x = spec_symbols_remove_processor(x)\n",
    "    s = x.split('<br><br>')\n",
    "    v = dict()\n",
    "    v['main_task'] = s[0]\n",
    "    v['sub_tasks'] = s[1].split('<br>')\n",
    "    v['description'] = s[2].split('<br>')[1]\n",
    "    return v\n",
    "\n",
    "\n",
    "print(specials_processor('05.03.01 - Геология, 21.05.04 - Горное дело, 21.05.02 - Прикладная геология, 21.05.03 - Технология геологической разведки'))\n",
    "print(data_education_lvl_processor('HeigherEducation,HeigherEducation,HeigherEducation,HeigherEducation'))\n",
    "print(data['Описание профессии для 8-9 класса'].apply(dat_description_processor)[1])"
   ]
  },
  {
   "cell_type": "code",
   "execution_count": 102,
   "metadata": {},
   "outputs": [
    {
     "data": {
      "text/html": [
       "<div>\n",
       "<style scoped>\n",
       "    .dataframe tbody tr th:only-of-type {\n",
       "        vertical-align: middle;\n",
       "    }\n",
       "\n",
       "    .dataframe tbody tr th {\n",
       "        vertical-align: top;\n",
       "    }\n",
       "\n",
       "    .dataframe thead th {\n",
       "        text-align: right;\n",
       "    }\n",
       "</style>\n",
       "<table border=\"1\" class=\"dataframe\">\n",
       "  <thead>\n",
       "    <tr style=\"text-align: right;\">\n",
       "      <th></th>\n",
       "      <th>Отрасль текстом</th>\n",
       "      <th>Название профессии</th>\n",
       "      <th>Описание профессии для 8-9 класса</th>\n",
       "      <th>Специальности ОКСО</th>\n",
       "      <th>Уровень образования</th>\n",
       "    </tr>\n",
       "    <tr>\n",
       "      <th>№</th>\n",
       "      <th></th>\n",
       "      <th></th>\n",
       "      <th></th>\n",
       "      <th></th>\n",
       "      <th></th>\n",
       "    </tr>\n",
       "  </thead>\n",
       "  <tbody>\n",
       "    <tr>\n",
       "      <th>1</th>\n",
       "      <td>Агропромышленность</td>\n",
       "      <td>Агроном</td>\n",
       "      <td>{'main_task': 'Выращивает ягоды, овощи, фрукты...</td>\n",
       "      <td>{'35.02.05': 'Агрономия', '35.03.03': 'Агрохим...</td>\n",
       "      <td>[SecondaryEducation, HeigherEducation, Heigher...</td>\n",
       "    </tr>\n",
       "    <tr>\n",
       "      <th>2</th>\n",
       "      <td>Архитектура, строительство и недвижимость</td>\n",
       "      <td>Маркшейдер</td>\n",
       "      <td>{'main_task': 'Исследует месторождения полезны...</td>\n",
       "      <td>{'05.03.01': 'Геология', '21.05.04': 'Горное д...</td>\n",
       "      <td>[HeigherEducation, HeigherEducation, HeigherEd...</td>\n",
       "    </tr>\n",
       "    <tr>\n",
       "      <th>3</th>\n",
       "      <td>Архитектура, строительство и недвижимость</td>\n",
       "      <td>Реставратор</td>\n",
       "      <td>{'main_task': 'Восстанавливает старинные здани...</td>\n",
       "      <td>{'07.02.01': 'Архитектура', '54.02.04': 'Реста...</td>\n",
       "      <td>[SecondaryEducation, SecondaryEducation, Secon...</td>\n",
       "    </tr>\n",
       "  </tbody>\n",
       "</table>\n",
       "</div>"
      ],
      "text/plain": [
       "                             Отрасль текстом Название профессии  \\\n",
       "№                                                                 \n",
       "1                         Агропромышленность            Агроном   \n",
       "2  Архитектура, строительство и недвижимость         Маркшейдер   \n",
       "3  Архитектура, строительство и недвижимость        Реставратор   \n",
       "\n",
       "                   Описание профессии для 8-9 класса  \\\n",
       "№                                                      \n",
       "1  {'main_task': 'Выращивает ягоды, овощи, фрукты...   \n",
       "2  {'main_task': 'Исследует месторождения полезны...   \n",
       "3  {'main_task': 'Восстанавливает старинные здани...   \n",
       "\n",
       "                                  Специальности ОКСО  \\\n",
       "№                                                      \n",
       "1  {'35.02.05': 'Агрономия', '35.03.03': 'Агрохим...   \n",
       "2  {'05.03.01': 'Геология', '21.05.04': 'Горное д...   \n",
       "3  {'07.02.01': 'Архитектура', '54.02.04': 'Реста...   \n",
       "\n",
       "                                 Уровень образования  \n",
       "№                                                     \n",
       "1  [SecondaryEducation, HeigherEducation, Heigher...  \n",
       "2  [HeigherEducation, HeigherEducation, HeigherEd...  \n",
       "3  [SecondaryEducation, SecondaryEducation, Secon...  "
      ]
     },
     "execution_count": 102,
     "metadata": {},
     "output_type": "execute_result"
    }
   ],
   "source": [
    "data_preprocessed = data.copy(deep=1)\n",
    "data_preprocessed['Специальности ОКСО'] = data['Специальности ОКСО - по одной специальности может быть множетсво программ обучения, которые открывают колледжии и вузы. Специальность - то, что написано у тебя в дипломе после окончания одной из программ обучения.'].apply(specials_processor)\n",
    "data_preprocessed['Уровень образования'] = data['Уровень образования. Цифры в середине кода ОКСО хх.ХХ.хх говорят об образовательном уровне: 03 и 05 - высшее образование, 01 и 02 - среднее профессиональное образование'].apply(data_education_lvl_processor)\n",
    "data_preprocessed['Описание профессии для 8-9 класса'] = data['Описание профессии для 8-9 класса'].apply(dat_description_processor)\n",
    "data_preprocessed =data_preprocessed.drop(\n",
    "    [\n",
    "        'Специальности ОКСО - по одной специальности может быть множетсво программ обучения, которые открывают колледжии и вузы. Специальность - то, что написано у тебя в дипломе после окончания одной из программ обучения.',\n",
    "        'Уровень образования. Цифры в середине кода ОКСО хх.ХХ.хх говорят об образовательном уровне: 03 и 05 - высшее образование, 01 и 02 - среднее профессиональное образование',\n",
    "    ],\n",
    "    axis=1\n",
    ")\n",
    "data_preprocessed.head(3)"
   ]
  },
  {
   "cell_type": "markdown",
   "metadata": {},
   "source": [
    "# Specials processing"
   ]
  },
  {
   "cell_type": "code",
   "execution_count": 111,
   "metadata": {},
   "outputs": [
    {
     "data": {
      "text/plain": [
       "((160,), (290,))"
      ]
     },
     "execution_count": 111,
     "metadata": {},
     "output_type": "execute_result"
    }
   ],
   "source": [
    "specials_texts = pd.Series(sum(data_preprocessed['Специальности ОКСО'].apply(lambda a: list(a.values())).to_list(), []))\n",
    "specials_nums = pd.Series(sum(data_preprocessed['Специальности ОКСО'].apply(lambda a: list(a.keys())).to_list(), []))\n",
    "specials_df = pd.DataFrame({'num': specials_nums.unique(), 'name': specials_texts.unique()})\n",
    "specials_texts.unique().shape, specials_texts.shape"
   ]
  },
  {
   "cell_type": "markdown",
   "metadata": {},
   "source": [
    "# Descriptions processing"
   ]
  },
  {
   "cell_type": "code",
   "execution_count": 113,
   "metadata": {},
   "outputs": [
    {
     "data": {
      "text/html": [
       "<div>\n",
       "<style scoped>\n",
       "    .dataframe tbody tr th:only-of-type {\n",
       "        vertical-align: middle;\n",
       "    }\n",
       "\n",
       "    .dataframe tbody tr th {\n",
       "        vertical-align: top;\n",
       "    }\n",
       "\n",
       "    .dataframe thead th {\n",
       "        text-align: right;\n",
       "    }\n",
       "</style>\n",
       "<table border=\"1\" class=\"dataframe\">\n",
       "  <thead>\n",
       "    <tr style=\"text-align: right;\">\n",
       "      <th></th>\n",
       "      <th>main_task</th>\n",
       "      <th>sub_tasks</th>\n",
       "      <th>description</th>\n",
       "    </tr>\n",
       "    <tr>\n",
       "      <th>№</th>\n",
       "      <th></th>\n",
       "      <th></th>\n",
       "      <th></th>\n",
       "    </tr>\n",
       "  </thead>\n",
       "  <tbody>\n",
       "    <tr>\n",
       "      <th>1</th>\n",
       "      <td>Выращивает ягоды, овощи, фрукты, грибы, кормов...</td>\n",
       "      <td>[ Проверяет почву и оценивает качество семян.,...</td>\n",
       "      <td>Представь, что агроном работает на ферме, кото...</td>\n",
       "    </tr>\n",
       "    <tr>\n",
       "      <th>2</th>\n",
       "      <td>Исследует месторождения полезных ископаемых, п...</td>\n",
       "      <td>[ Исследует горную местность и определяет нали...</td>\n",
       "      <td>Допустим, в горах строят тоннель для новой жел...</td>\n",
       "    </tr>\n",
       "    <tr>\n",
       "      <th>3</th>\n",
       "      <td>Восстанавливает старинные здания, сооружения и...</td>\n",
       "      <td>[ Изучает и анализирует старинные произведения...</td>\n",
       "      <td>Допустим, в городе есть старинное здание. Рест...</td>\n",
       "    </tr>\n",
       "    <tr>\n",
       "      <th>4</th>\n",
       "      <td>Ремонтирует строительную технику</td>\n",
       "      <td>[ Ремонтирует строительные машины.,  Проводит ...</td>\n",
       "      <td>Допустим, на стройплощадке у экскаватора слома...</td>\n",
       "    </tr>\n",
       "    <tr>\n",
       "      <th>5</th>\n",
       "      <td>Устанавливает и обслуживает системы водоснабже...</td>\n",
       "      <td>[ Соединяет трубы между собой — так он создает...</td>\n",
       "      <td>Допустим, в новом здании нужно установить сист...</td>\n",
       "    </tr>\n",
       "  </tbody>\n",
       "</table>\n",
       "</div>"
      ],
      "text/plain": [
       "                                           main_task  \\\n",
       "№                                                      \n",
       "1  Выращивает ягоды, овощи, фрукты, грибы, кормов...   \n",
       "2  Исследует месторождения полезных ископаемых, п...   \n",
       "3  Восстанавливает старинные здания, сооружения и...   \n",
       "4                   Ремонтирует строительную технику   \n",
       "5  Устанавливает и обслуживает системы водоснабже...   \n",
       "\n",
       "                                           sub_tasks  \\\n",
       "№                                                      \n",
       "1  [ Проверяет почву и оценивает качество семян.,...   \n",
       "2  [ Исследует горную местность и определяет нали...   \n",
       "3  [ Изучает и анализирует старинные произведения...   \n",
       "4  [ Ремонтирует строительные машины.,  Проводит ...   \n",
       "5  [ Соединяет трубы между собой — так он создает...   \n",
       "\n",
       "                                         description  \n",
       "№                                                     \n",
       "1  Представь, что агроном работает на ферме, кото...  \n",
       "2  Допустим, в горах строят тоннель для новой жел...  \n",
       "3  Допустим, в городе есть старинное здание. Рест...  \n",
       "4  Допустим, на стройплощадке у экскаватора слома...  \n",
       "5  Допустим, в новом здании нужно установить сист...  "
      ]
     },
     "execution_count": 113,
     "metadata": {},
     "output_type": "execute_result"
    }
   ],
   "source": [
    "descriptions_df = pd.DataFrame()\n",
    "descriptions_df['main_task'] = data_preprocessed['Описание профессии для 8-9 класса'].apply(lambda a: a['main_task'])\n",
    "descriptions_df['sub_tasks'] = data_preprocessed['Описание профессии для 8-9 класса'].apply(lambda a: a['sub_tasks'])\n",
    "descriptions_df['description'] = data_preprocessed['Описание профессии для 8-9 класса'].apply(lambda a: a['description'])\n",
    "descriptions_df.head()"
   ]
  },
  {
   "cell_type": "code",
   "execution_count": 124,
   "metadata": {},
   "outputs": [
    {
     "data": {
      "text/html": [
       "<div>\n",
       "<style scoped>\n",
       "    .dataframe tbody tr th:only-of-type {\n",
       "        vertical-align: middle;\n",
       "    }\n",
       "\n",
       "    .dataframe tbody tr th {\n",
       "        vertical-align: top;\n",
       "    }\n",
       "\n",
       "    .dataframe thead th {\n",
       "        text-align: right;\n",
       "    }\n",
       "</style>\n",
       "<table border=\"1\" class=\"dataframe\">\n",
       "  <thead>\n",
       "    <tr style=\"text-align: right;\">\n",
       "      <th></th>\n",
       "      <th>Отрасль текстом</th>\n",
       "      <th>Название профессии</th>\n",
       "      <th>Описание профессии для 8-9 класса</th>\n",
       "      <th>Специальности ОКСО</th>\n",
       "      <th>Уровень образования</th>\n",
       "      <th>main_task</th>\n",
       "      <th>sub_tasks</th>\n",
       "      <th>description</th>\n",
       "    </tr>\n",
       "    <tr>\n",
       "      <th>№</th>\n",
       "      <th></th>\n",
       "      <th></th>\n",
       "      <th></th>\n",
       "      <th></th>\n",
       "      <th></th>\n",
       "      <th></th>\n",
       "      <th></th>\n",
       "      <th></th>\n",
       "    </tr>\n",
       "  </thead>\n",
       "  <tbody>\n",
       "    <tr>\n",
       "      <th>1</th>\n",
       "      <td>Агропромышленность</td>\n",
       "      <td>Агроном</td>\n",
       "      <td>{'main_task': 'Выращивает ягоды, овощи, фрукты...</td>\n",
       "      <td>{'35.02.05': 'Агрономия', '35.03.03': 'Агрохим...</td>\n",
       "      <td>[SecondaryEducation, HeigherEducation, Heigher...</td>\n",
       "      <td>Выращивает ягоды, овощи, фрукты, грибы, кормов...</td>\n",
       "      <td>[ Проверяет почву и оценивает качество семян.,...</td>\n",
       "      <td>Представь, что агроном работает на ферме, кото...</td>\n",
       "    </tr>\n",
       "    <tr>\n",
       "      <th>2</th>\n",
       "      <td>Архитектура, строительство и недвижимость</td>\n",
       "      <td>Маркшейдер</td>\n",
       "      <td>{'main_task': 'Исследует месторождения полезны...</td>\n",
       "      <td>{'05.03.01': 'Геология', '21.05.04': 'Горное д...</td>\n",
       "      <td>[HeigherEducation, HeigherEducation, HeigherEd...</td>\n",
       "      <td>Исследует месторождения полезных ископаемых, п...</td>\n",
       "      <td>[ Исследует горную местность и определяет нали...</td>\n",
       "      <td>Допустим, в горах строят тоннель для новой жел...</td>\n",
       "    </tr>\n",
       "    <tr>\n",
       "      <th>3</th>\n",
       "      <td>Архитектура, строительство и недвижимость</td>\n",
       "      <td>Реставратор</td>\n",
       "      <td>{'main_task': 'Восстанавливает старинные здани...</td>\n",
       "      <td>{'07.02.01': 'Архитектура', '54.02.04': 'Реста...</td>\n",
       "      <td>[SecondaryEducation, SecondaryEducation, Secon...</td>\n",
       "      <td>Восстанавливает старинные здания, сооружения и...</td>\n",
       "      <td>[ Изучает и анализирует старинные произведения...</td>\n",
       "      <td>Допустим, в городе есть старинное здание. Рест...</td>\n",
       "    </tr>\n",
       "    <tr>\n",
       "      <th>4</th>\n",
       "      <td>Архитектура, строительство и недвижимость</td>\n",
       "      <td>Слесарь по ремонту строительных машин</td>\n",
       "      <td>{'main_task': 'Ремонтирует строительную техник...</td>\n",
       "      <td>{'23.02.03': 'Техническое обслуживание и ремон...</td>\n",
       "      <td>[SecondaryEducation, SecondaryEducation, Secon...</td>\n",
       "      <td>Ремонтирует строительную технику</td>\n",
       "      <td>[ Ремонтирует строительные машины.,  Проводит ...</td>\n",
       "      <td>Допустим, на стройплощадке у экскаватора слома...</td>\n",
       "    </tr>\n",
       "    <tr>\n",
       "      <th>5</th>\n",
       "      <td>Архитектура, строительство и недвижимость</td>\n",
       "      <td>Монтажник санитарно-технических систем и обору...</td>\n",
       "      <td>{'main_task': 'Устанавливает и обслуживает сис...</td>\n",
       "      <td>{'08.01.26': 'Мастер по ремонту и обслуживанию...</td>\n",
       "      <td>[SecondaryEducation, SecondaryEducation, Secon...</td>\n",
       "      <td>Устанавливает и обслуживает системы водоснабже...</td>\n",
       "      <td>[ Соединяет трубы между собой — так он создает...</td>\n",
       "      <td>Допустим, в новом здании нужно установить сист...</td>\n",
       "    </tr>\n",
       "  </tbody>\n",
       "</table>\n",
       "</div>"
      ],
      "text/plain": [
       "                             Отрасль текстом  \\\n",
       "№                                              \n",
       "1                         Агропромышленность   \n",
       "2  Архитектура, строительство и недвижимость   \n",
       "3  Архитектура, строительство и недвижимость   \n",
       "4  Архитектура, строительство и недвижимость   \n",
       "5  Архитектура, строительство и недвижимость   \n",
       "\n",
       "                                  Название профессии  \\\n",
       "№                                                      \n",
       "1                                            Агроном   \n",
       "2                                         Маркшейдер   \n",
       "3                                        Реставратор   \n",
       "4              Слесарь по ремонту строительных машин   \n",
       "5  Монтажник санитарно-технических систем и обору...   \n",
       "\n",
       "                   Описание профессии для 8-9 класса  \\\n",
       "№                                                      \n",
       "1  {'main_task': 'Выращивает ягоды, овощи, фрукты...   \n",
       "2  {'main_task': 'Исследует месторождения полезны...   \n",
       "3  {'main_task': 'Восстанавливает старинные здани...   \n",
       "4  {'main_task': 'Ремонтирует строительную техник...   \n",
       "5  {'main_task': 'Устанавливает и обслуживает сис...   \n",
       "\n",
       "                                  Специальности ОКСО  \\\n",
       "№                                                      \n",
       "1  {'35.02.05': 'Агрономия', '35.03.03': 'Агрохим...   \n",
       "2  {'05.03.01': 'Геология', '21.05.04': 'Горное д...   \n",
       "3  {'07.02.01': 'Архитектура', '54.02.04': 'Реста...   \n",
       "4  {'23.02.03': 'Техническое обслуживание и ремон...   \n",
       "5  {'08.01.26': 'Мастер по ремонту и обслуживанию...   \n",
       "\n",
       "                                 Уровень образования  \\\n",
       "№                                                      \n",
       "1  [SecondaryEducation, HeigherEducation, Heigher...   \n",
       "2  [HeigherEducation, HeigherEducation, HeigherEd...   \n",
       "3  [SecondaryEducation, SecondaryEducation, Secon...   \n",
       "4  [SecondaryEducation, SecondaryEducation, Secon...   \n",
       "5  [SecondaryEducation, SecondaryEducation, Secon...   \n",
       "\n",
       "                                           main_task  \\\n",
       "№                                                      \n",
       "1  Выращивает ягоды, овощи, фрукты, грибы, кормов...   \n",
       "2  Исследует месторождения полезных ископаемых, п...   \n",
       "3  Восстанавливает старинные здания, сооружения и...   \n",
       "4                   Ремонтирует строительную технику   \n",
       "5  Устанавливает и обслуживает системы водоснабже...   \n",
       "\n",
       "                                           sub_tasks  \\\n",
       "№                                                      \n",
       "1  [ Проверяет почву и оценивает качество семян.,...   \n",
       "2  [ Исследует горную местность и определяет нали...   \n",
       "3  [ Изучает и анализирует старинные произведения...   \n",
       "4  [ Ремонтирует строительные машины.,  Проводит ...   \n",
       "5  [ Соединяет трубы между собой — так он создает...   \n",
       "\n",
       "                                         description  \n",
       "№                                                     \n",
       "1  Представь, что агроном работает на ферме, кото...  \n",
       "2  Допустим, в горах строят тоннель для новой жел...  \n",
       "3  Допустим, в городе есть старинное здание. Рест...  \n",
       "4  Допустим, на стройплощадке у экскаватора слома...  \n",
       "5  Допустим, в новом здании нужно установить сист...  "
      ]
     },
     "execution_count": 124,
     "metadata": {},
     "output_type": "execute_result"
    }
   ],
   "source": [
    "splited_df = pd.concat([data_preprocessed, descriptions_df], axis=1)\n",
    "splited_df.head()\n"
   ]
  },
  {
   "cell_type": "code",
   "execution_count": 162,
   "metadata": {},
   "outputs": [],
   "source": [
    "def clear_from_stopwords(text, sw):\n",
    "    text = text\n",
    "    tokens = list(tokenize(text))\n",
    "    t = []\n",
    "    for i in tokens:\n",
    "        if len(i.text) > 2:\n",
    "            if i.text not in sw:\n",
    "                t.append(i.text)\n",
    "\n",
    "    return ' '.join(t)"
   ]
  },
  {
   "cell_type": "code",
   "execution_count": 167,
   "metadata": {},
   "outputs": [],
   "source": [
    "def clear_from_stopwords_bin(text, sw):\n",
    "    text = text\n",
    "    tokens = list(tokenize(text))\n",
    "    t = []\n",
    "    for i in tokens:\n",
    "        t.append(int(len(i.text) > 2 and i.text not in sw))\n",
    "    return t"
   ]
  },
  {
   "cell_type": "code",
   "execution_count": 166,
   "metadata": {},
   "outputs": [
    {
     "data": {
      "text/plain": [
       "(65, 42.16, 41.0, 15)"
      ]
     },
     "execution_count": 166,
     "metadata": {},
     "output_type": "execute_result"
    }
   ],
   "source": [
    "cleared_desciptions = splited_df['description'].apply(lambda a: a.lower()).apply(lambda a: clear_from_stopwords(a, sw=stop_words)).apply(lambda a: len(a.split()))\n",
    "cleared_desciptions.max(), cleared_desciptions.mean(), cleared_desciptions.median(), cleared_desciptions.min()"
   ]
  },
  {
   "cell_type": "code",
   "execution_count": 153,
   "metadata": {},
   "outputs": [
    {
     "data": {
      "text/plain": [
       "tensor([0, 0, 0, 1, 1, 0, 1, 0, 0, 1, 1, 0, 1, 1, 1, 0, 1, 1, 0, 1, 1, 0, 0, 1,\n",
       "        0, 1, 1, 1, 0, 1, 0, 0, 0, 1, 1, 0, 0, 0, 0, 1, 1, 0, 1, 0, 1, 1, 0, 1,\n",
       "        1, 0, 1, 0, 0, 0, 1, 1, 0, 0, 1, 1, 0, 0, 1, 1, 0, 0, 0, 0, 1, 1, 1, 1,\n",
       "        1, 0, 0, 1, 0, 1, 1, 0, 0, 0, 0, 1, 0])"
      ]
     },
     "execution_count": 153,
     "metadata": {},
     "output_type": "execute_result"
    }
   ],
   "source": [
    "splited_df['description'].apply(lambda a: a.lower()).apply(lambda a: clear_from_stopwords_bin(a, sw=stop_words))"
   ]
  },
  {
   "cell_type": "code",
   "execution_count": 171,
   "metadata": {},
   "outputs": [],
   "source": [
    "enc = tokenizer(splited_df['description'].apply(lambda a: a.lower()).apply(lambda a: clear_from_stopwords(a, sw=stop_words)).to_list(), padding=True, truncation=True, pad_to_multiple_of=65, max_length=65, return_tensors='pt')"
   ]
  },
  {
   "cell_type": "code",
   "execution_count": 173,
   "metadata": {},
   "outputs": [],
   "source": [
    "vec_desc = vectorizer(**enc)[0]"
   ]
  },
  {
   "cell_type": "code",
   "execution_count": 175,
   "metadata": {},
   "outputs": [
    {
     "data": {
      "text/plain": [
       "torch.Size([50, 65, 1024])"
      ]
     },
     "execution_count": 175,
     "metadata": {},
     "output_type": "execute_result"
    }
   ],
   "source": [
    "vec_desc.shape"
   ]
  },
  {
   "cell_type": "code",
   "execution_count": 176,
   "metadata": {},
   "outputs": [],
   "source": [
    "torch.save(vec_desc, '../DATA/small_description_vectors.pt')"
   ]
  },
  {
   "cell_type": "code",
   "execution_count": null,
   "metadata": {},
   "outputs": [],
   "source": [
    "check_text = tokenizer(['Программировать на Python легко'], padding=True, truncation=True, pad_to_multiple_of=65, max_length=65, return_tensors='pt')"
   ]
  }
 ],
 "metadata": {
  "kernelspec": {
   "display_name": "LofDT",
   "language": "python",
   "name": "python3"
  },
  "language_info": {
   "codemirror_mode": {
    "name": "ipython",
    "version": 3
   },
   "file_extension": ".py",
   "mimetype": "text/x-python",
   "name": "python",
   "nbconvert_exporter": "python",
   "pygments_lexer": "ipython3",
   "version": "3.9.2"
  }
 },
 "nbformat": 4,
 "nbformat_minor": 2
}
