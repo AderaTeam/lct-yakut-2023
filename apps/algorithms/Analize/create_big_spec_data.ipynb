{
 "cells": [
  {
   "cell_type": "code",
   "execution_count": 1,
   "metadata": {},
   "outputs": [
    {
     "name": "stderr",
     "output_type": "stream",
     "text": [
      "d:\\lct-yakut-2023\\apps\\algorithms\\LofDT\\lib\\site-packages\\tqdm\\auto.py:21: TqdmWarning: IProgress not found. Please update jupyter and ipywidgets. See https://ipywidgets.readthedocs.io/en/stable/user_install.html\n",
      "  from .autonotebook import tqdm as notebook_tqdm\n"
     ]
    }
   ],
   "source": [
    "import requests\n",
    "from bs4 import BeautifulSoup\n",
    "import re\n",
    "import pandas as pd\n",
    "import tqdm as notebook_tqdm\n",
    "from transformers import AutoModel, AutoTokenizer\n",
    "from razdel import tokenize\n",
    "from string import punctuation\n",
    "import torch\n",
    "import json\n",
    "\n",
    "emoj = re.compile('['\n",
    "                  u'\\U0001F600-\\U0001F64F'\n",
    "                  u'\\U0001F300-\\U0001F5FF'\n",
    "                  u'\\U0001F680-\\U0001F6FF'\n",
    "                  u'\\U0001F1E0-\\U0001F1FF'\n",
    "                  u'\\U00002500-\\U00002BEF'\n",
    "                  u'\\U00002702-\\U000027B0'\n",
    "                  u'\\U000024C2-\\U0001F251'\n",
    "                  u'\\U0001f926-\\U0001f937'\n",
    "                  u'\\U00010000-\\U0010ffff'\n",
    "                  u'\\u2640-\\u2642'\n",
    "                  u'\\u2600-\\u2B55'\n",
    "                  u'\\u200d'\n",
    "                  u'\\u23cf'\n",
    "                  u'\\u23e9'\n",
    "                  u'\\u231a'\n",
    "                  u'\\ufe0f'\n",
    "                  u'\\u3030'\n",
    "                  ']', re.UNICODE)\n",
    "punctuation += '—'\n",
    "tokenizer = AutoTokenizer.from_pretrained(\"ai-forever/sbert_large_nlu_ru\")\n",
    "vectorizer = AutoModel.from_pretrained(\"ai-forever/sbert_large_nlu_ru\")\n",
    "with open('../DATA/less_semantic_words.txt', 'r', encoding='utf-8') as f:\n",
    "    stop_words = pd.Series(f.read().split('\\n')).unique()\n",
    "\n",
    "main_href = 'https://vuz.edunetwork.ru/'\n",
    "usefull_titles = ['Профили', 'Описание', 'Кем работать']"
   ]
  },
  {
   "cell_type": "code",
   "execution_count": 2,
   "metadata": {},
   "outputs": [],
   "source": [
    "def clear_from_stopwords(text, sw):\n",
    "    text = re.sub(emoj, '', text)\n",
    "    tokens = list(tokenize(text))\n",
    "    t = []\n",
    "    for i in tokens:\n",
    "        if len(i.text) > 2 and i.text not in sw:\n",
    "            t.append(i.text)\n",
    "    return ' '.join(t)"
   ]
  },
  {
   "cell_type": "code",
   "execution_count": 4,
   "metadata": {},
   "outputs": [],
   "source": [
    "ms = requests.get('https://vuz.edunetwork.ru/specs/').content\n",
    "soup = BeautifulSoup(ms, 'html.parser')\n",
    "specials = soup.find_all('li')"
   ]
  },
  {
   "cell_type": "code",
   "execution_count": null,
   "metadata": {},
   "outputs": [],
   "source": [
    "re.sub('\\s+', ' ', specials[23].text.replace('\\n', ' '))"
   ]
  },
  {
   "cell_type": "code",
   "execution_count": 106,
   "metadata": {},
   "outputs": [
    {
     "data": {
      "text/plain": [
       "<a href=\"/specs/1\">Математика</a>"
      ]
     },
     "execution_count": 106,
     "metadata": {},
     "output_type": "execute_result"
    }
   ],
   "source": [
    "specials[23].a"
   ]
  },
  {
   "cell_type": "code",
   "execution_count": 114,
   "metadata": {},
   "outputs": [],
   "source": [
    "spec_links = dict()\n",
    "for i in specials:\n",
    "    if i: \n",
    "        if i.a:\n",
    "            if 'spec' in i.a['href']:\n",
    "                spec_links[re.sub('\\s+', ' ', i.text.replace('\\n', ' '))] = i.a['href']"
   ]
  },
  {
   "cell_type": "code",
   "execution_count": 117,
   "metadata": {},
   "outputs": [
    {
     "data": {
      "text/plain": [
       "' 01.03.01 — Математика '"
      ]
     },
     "execution_count": 117,
     "metadata": {},
     "output_type": "execute_result"
    }
   ],
   "source": [
    "list(spec_links.keys())[0]"
   ]
  },
  {
   "cell_type": "code",
   "execution_count": 118,
   "metadata": {},
   "outputs": [
    {
     "data": {
      "text/plain": [
       "'. . . . Математика (01.03.01) бакалавриат. . . . . . . . . . . . . . . . . . . . . . . . . . . . . . . . . . . . . . . . . . . . . . . . menu. . . . . . . . . . . . . . Вузы. Колледжи. . . . . . 8 800 302-36-20. . . Подобрать программу. . . . . Войти. Профиль. Поиск. . . . . loop. . . . . . . . . Профиль. Панель вуза. Выйти. . . . . . search. . . brightness_1Вузы. brightness_1Колледжи. . . . . personВойти. personПрофиль. . settingsПанель вуза. . . . exit_to_appВыход. . . . . . . Вузы России Специальности вузов. . . . . . . Математика — бакалавриат (01.03.01) . Укрупненная группа: Математика и механика. . Профили. Алгебра и математическая логикаГеометрия и топологияВычислительная математика и информатикаТеория вероятностей и математическая статистикаМатематическое моделированиеДискретная математикаМатематическая биология и биоинформатикаМатематический анализДифференциальные и интегральные уравненияМатематические методы в экономикеПоказать все. . . Описание. Студенты математического факультета получат теоретические знания по различным математическим предметам, таким как: алгебра, матанализ, аналитическая геометрия, математическая логика, теория вероятностей, дискретная математика, математическое моделирование, дифференциальные уравнения и др. Аналитические дисциплины, такие как комплексный и функциональный анализ, тоже входят в список теоретического курса. Однако одной лишь теорией обучение бакалавров не окончится: студентов научат использовать полученные знания на практике, к примеру, для построения алгоритмов при разработке компьютерных программ. Также они научатся применять математические методы в разных жизненных сферах.. . . Кем работать. Математика считается престижной и отчасти универсальной специальностью, которая открывает выпускникам перспективы работы в различных областях. Бакалавр математики может преподавать математические дисциплины (информатику в том числе) в школах и высших учебных заведениях; сможет найти работу в качестве системного или бизнес-аналитика. Помимо этого, выпускник математического профиля сможет заняться научной работой в тех сферах, где используются компьютерные технологии и математические методы. Он также сможет принимать участие в разработке методов эффективных решений задач в различных областях экономики, управления, естествознания и т.д. Однако наиболее популярное и востребованное направление, которому следуют бакалавры математики – это программирование. . . . Где обучаться:. . . Математика в вузах Москвы. Математика в вузах Санкт-Петербурга. Математика в вузах дистанционно. . . . . Продолжить обучение в магистратуре. Математика (магистратура)Прикладная математика и информатика (магистратура)Механика и математическое моделирование (магистратура)Прикладная математика (магистратура)Статистика (магистратура). . . . . . Следующая специальность. Прикладная математика и информатика. . . . . . . visibilityПроверить вуз. favoriteМои специальности. . . . . . . . . . . . . . . . . . Подобрать программу обучения. . Начать. . . . . . . . . . . . . . . К предыдущему вопросу. . . К каким профессиям вы больше склонны?. . . . . . . Гуманитарным. . . . . Техническим. . . . . . Творческим. . . . . . Медицинским. . . . . . . . . К предыдущему вопросу. . . Какое у Вас законченное образование?. . . . . . . 9 классов (учусь/закончил). . . . . 11 классов (учусь/закончил). . . . . Среднее профессиональное/техническое. . . . . Высшее образование. . . . . Магистратура. . . . . . . . К предыдущему вопросу. . . Куда Вы планируете поступать?. . . . . . . Колледж (Техникум). . . . . Высшее образование. (Университет/Институт/Академия). . . . . Второе высшее. . . . . Магистратура. . . . . Аспирантура. . . . . . . . К предыдущему вопросу. . . Какой формат обучения вам подходит?. . . . . . . Очно. . . . . Заочно. . . . . Вечернее обучение. . . . . Выходного дня. . . . . Дистанционно. . . . . . . . К предыдущему вопросу. . . Какие варианты поступления Вы рассматриваете?. . . . . . . Бюджет. . . . . Бюджет и платно. . . . . Платно. . . . . Целевое обучение. . . . . . . . . Специалист «Единой приёмной комиссии» подобрал программу обучения. . . . . . . . . . . . . . Продолжить. . . . . Даю согласие на обработку персональных данных,. согласен на получение информационных сообщений и соглашаюсь с Политикой. конфиденциальности. . . . . . . Спасибо, что доверился команде EduNetwork!. Подпишись на наш телеграм-канал, где самая новая и полезная информация о. вузах, колледжах и не только 😉. 👉🏼 ПОДПИСАТЬСЯ 👈🏼. За подписку каждому ДАРИМ ЧЕК-ЛИСТ по подбору вуза или колледжа 😇. . . . . . . . . . . . . Проверка номера телефона. На номер отправлено SMS с кодом. Введите. полученный код в поле ниже.. . . . . . Отправить код повторно можно через 60 сек.. . . Отправить повторно. Продолжить. . . Вы не прошли верификацию!. На 24 часа Вам ограничен доступ к отправке заявки. . . Закрыть. . . . . . . . . . . © EduNetwork.ru, 2010-2023. Присоединяйся к Edunetwork в соцсетях. . . . . . . . . . . . . . . . . . . . . . Статистика всех сервисов. . . . . Статистика сервиса вузы. . . . . . . . . . . EduNetwork.ru. Медиа. . . О проекте. . . Политика. конфиденциальности. . . Пользовательское. соглашение. . . . . . . Учебным заведениям. . Информация для вузов. . . . . . Поступающим. . Специальности вузов. . . Профтест. . . . Абитуриентам. . . . Родителям. . . . . . . . . Контакты. . Приёмная комиссия Edunetwork. 8 800. 302-36-20. . . . . . . . . . . . . '"
      ]
     },
     "execution_count": 118,
     "metadata": {},
     "output_type": "execute_result"
    }
   ],
   "source": [
    "soup2 = BeautifulSoup(requests.get(main_href + spec_links[' 01.03.01 — Математика ']).content, 'html.parser')\n",
    "re.sub(r'\\s+', ' ', re.sub(r'\\n', '. ', soup2.text))"
   ]
  },
  {
   "cell_type": "code",
   "execution_count": 135,
   "metadata": {},
   "outputs": [],
   "source": [
    "def getData(section):\n",
    "    d = dict()\n",
    "    for i in section:\n",
    "        if i.h2 != None and i.p != None:\n",
    "            if i.h2.text in usefull_titles:\n",
    "                d[i.h2.text] = [j.text for j in i.ul.find_all('li')] if i.ul else i.p.text\n",
    "    return d"
   ]
  },
  {
   "cell_type": "code",
   "execution_count": 172,
   "metadata": {},
   "outputs": [
    {
     "data": {
      "text/plain": [
       "<section id=\"profs\">\n",
       "<h2>Профили</h2>\n",
       "<ul><li>Математическая физика</li><li>Алгебра и математическая логика</li><li>Математический анализ</li><li>Уравнения в частных производных</li><li>Дискретная математика</li><li>Методы вычислений</li><li>Методы оптимизации и оптимального управления</li><li>Теория чисел</li><li>Дифференциальные и интегральные уравнения</li><li>Современные проблемы математики</li><li>Вычислительная математика и информатика</li><li>Математические методы в экономике</li><li>Геометрия и топология</li><li>Математическое моделирование</li><li>Финансовая математика</li></ul><a class=\"more-link\" href=\"#\">Показать все</a>\n",
       "</section>"
      ]
     },
     "execution_count": 172,
     "metadata": {},
     "output_type": "execute_result"
    }
   ],
   "source": [
    "soup2.find_all('section')[1]"
   ]
  },
  {
   "cell_type": "code",
   "execution_count": 176,
   "metadata": {},
   "outputs": [],
   "source": [
    "spec_desc = dict()\n",
    "for i in spec_links:\n",
    "    s = BeautifulSoup(requests.get(main_href + spec_links[i]).content, 'html.parser')\n",
    "    spec_desc[i] = getData(s.find_all('section'))"
   ]
  },
  {
   "cell_type": "code",
   "execution_count": 178,
   "metadata": {},
   "outputs": [],
   "source": [
    "with open('../DATA/large_spec_desc.json', 'w', encoding='utf-8') as f:\n",
    "    json.dump(spec_desc, f)"
   ]
  },
  {
   "cell_type": "code",
   "execution_count": 237,
   "metadata": {},
   "outputs": [],
   "source": [
    "def vectorization(text, stop_words):\n",
    "    return vectorizer(\n",
    "        **tokenizer(\n",
    "            [\n",
    "                clear_from_stopwords(text, stop_words)\n",
    "            ], \n",
    "            padding=True, \n",
    "            truncation=True, \n",
    "            pad_to_multiple_of=65, \n",
    "            max_length=65, \n",
    "            return_tensors='pt'\n",
    "        )\n",
    "    )[0].squeeze(0)\n",
    "\n",
    "\n",
    "def processingProfiles(profiles):\n",
    "    d = []\n",
    "    for i in profiles:\n",
    "        for j in i.split(' и '):\n",
    "            d.append(clear_from_stopwords(j, stop_words).lower())\n",
    "    return d\n",
    "\n",
    "\n",
    "def processingDescription(desc):\n",
    "    if type(desc) is list:\n",
    "        return clear_from_stopwords(' '.join(desc), stop_words).lower()\n",
    "    return clear_from_stopwords(desc, stop_words).lower()\n",
    "\n",
    "\n",
    "def processingToBe(desc):\n",
    "    return clear_from_stopwords(desc, stop_words).lower()\n",
    "\n",
    "\n",
    "def processingSpec(spec):\n",
    "    if 'Профили' in spec:\n",
    "        if len(spec['Профили']) > 0:\n",
    "            spec['Профили'] = processingProfiles(spec['Профили'])\n",
    "    if 'Описание' in spec:\n",
    "        if len(spec['Описание']) > 0:\n",
    "            spec['Описание'] = processingDescription(spec['Описание'])\n",
    "    if 'Кем работать' in spec:\n",
    "        if len(spec['Кем работать']) > 0:\n",
    "            spec['Кем работать'] = processingToBe(spec['Кем работать'])\n",
    "    return spec\n",
    "    "
   ]
  },
  {
   "cell_type": "code",
   "execution_count": 238,
   "metadata": {},
   "outputs": [],
   "source": [
    "with open('../DATA/large_spec_desc.json', 'r') as f:\n",
    "    spec_desc2 = json.load(f)\n",
    "for i in spec_desc2:\n",
    "    # print(i)\n",
    "    spec_desc2[i] = processingSpec(spec_desc2[i])"
   ]
  },
  {
   "cell_type": "code",
   "execution_count": 235,
   "metadata": {},
   "outputs": [
    {
     "data": {
      "text/plain": [
       "{'Профили': 'алгебра математическая логика геометрия топология вычислительная математика информатика теория вероятностей математическая статистика математическое моделирование дискретная математика математическая биология биоинформатика математический анализ дифференциальные интегральные уравнения математические методы экономике',\n",
       " 'Описание': 'студенты математического факультета получат теоретические знания различным математическим предметам алгебра матанализ аналитическая геометрия математическая логика теория вероятностей дискретная математика математическое моделирование дифференциальные уравнения аналитические дисциплины комплексный функциональный анализ входят список теоретического курса однако теорией обучение бакалавров окончится студентов научат полученные знания практике построения алгоритмов разработке компьютерных программ также научатся применять математические методы разных жизненных сферах',\n",
       " 'Кем работать': 'математика престижной отчасти универсальной специальностью открывает выпускникам перспективы различных областях бакалавр математики преподавать математические дисциплины информатику числе школах высших учебных заведениях сможет работу качестве системного бизнес-аналитика помимо выпускник математического профиля сможет заняться научной работой сферах используются компьютерные технологии математические методы сможет участие разработке методов эффективных решений задач различных областях экономики управления естествознания однако популярное востребованное направление следуют бакалавры математики программирование'}"
      ]
     },
     "execution_count": 235,
     "metadata": {},
     "output_type": "execute_result"
    }
   ],
   "source": [
    "spec_desc2[' 01.03.01 — Математика ']"
   ]
  },
  {
   "cell_type": "code",
   "execution_count": 234,
   "metadata": {},
   "outputs": [],
   "source": [
    "with open('../DATA/large_spec_desc_processed.json', 'w', encoding='utf-8') as f:\n",
    "    json.dump(spec_desc2, f)"
   ]
  }
 ],
 "metadata": {
  "kernelspec": {
   "display_name": "LofDT",
   "language": "python",
   "name": "python3"
  },
  "language_info": {
   "codemirror_mode": {
    "name": "ipython",
    "version": 3
   },
   "file_extension": ".py",
   "mimetype": "text/x-python",
   "name": "python",
   "nbconvert_exporter": "python",
   "pygments_lexer": "ipython3",
   "version": "3.9.2"
  }
 },
 "nbformat": 4,
 "nbformat_minor": 2
}
