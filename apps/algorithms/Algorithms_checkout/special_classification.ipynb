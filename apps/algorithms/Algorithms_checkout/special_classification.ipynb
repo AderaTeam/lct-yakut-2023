{
 "cells": [
  {
   "cell_type": "code",
   "execution_count": 1,
   "metadata": {},
   "outputs": [
    {
     "name": "stderr",
     "output_type": "stream",
     "text": [
      "d:\\lct-yakut-2023\\apps\\algorithms\\LofDT\\lib\\site-packages\\tqdm\\auto.py:21: TqdmWarning: IProgress not found. Please update jupyter and ipywidgets. See https://ipywidgets.readthedocs.io/en/stable/user_install.html\n",
      "  from .autonotebook import tqdm as notebook_tqdm\n"
     ]
    }
   ],
   "source": [
    "import pandas as pd\n",
    "import re\n",
    "import tqdm as notebook_tqdm\n",
    "from transformers import AutoModel, AutoTokenizer\n",
    "from razdel import tokenize\n",
    "from string import punctuation\n",
    "import torch\n",
    "\n",
    "emoj = re.compile('['\n",
    "                  u'\\U0001F600-\\U0001F64F'\n",
    "                  u'\\U0001F300-\\U0001F5FF'\n",
    "                  u'\\U0001F680-\\U0001F6FF'\n",
    "                  u'\\U0001F1E0-\\U0001F1FF'\n",
    "                  u'\\U00002500-\\U00002BEF'\n",
    "                  u'\\U00002702-\\U000027B0'\n",
    "                  u'\\U000024C2-\\U0001F251'\n",
    "                  u'\\U0001f926-\\U0001f937'\n",
    "                  u'\\U00010000-\\U0010ffff'\n",
    "                  u'\\u2640-\\u2642'\n",
    "                  u'\\u2600-\\u2B55'\n",
    "                  u'\\u200d'\n",
    "                  u'\\u23cf'\n",
    "                  u'\\u23e9'\n",
    "                  u'\\u231a'\n",
    "                  u'\\ufe0f'\n",
    "                  u'\\u3030'\n",
    "                  ']', re.UNICODE)\n",
    "punctuation += '—'\n",
    "tokenizer = AutoTokenizer.from_pretrained(\"ai-forever/sbert_large_nlu_ru\")\n",
    "vectorizer = AutoModel.from_pretrained(\"ai-forever/sbert_large_nlu_ru\")\n",
    "with open('../DATA/less_semantic_words.txt', 'r', encoding='utf-8') as f:\n",
    "    stop_words = pd.Series(f.read().split('\\n')).unique()"
   ]
  },
  {
   "cell_type": "code",
   "execution_count": null,
   "metadata": {},
   "outputs": [],
   "source": [
    "def clear_from_stopwords(text, sw):\n",
    "    text = re.sub(emoj, '', text)\n",
    "    tokens = list(tokenize(text))\n",
    "    t = []\n",
    "    for i in tokens:\n",
    "        if len(i.text) > 2 and i.text not in sw:\n",
    "            t.append(i.text)\n",
    "    return ' '.join(t)"
   ]
  }
 ],
 "metadata": {
  "kernelspec": {
   "display_name": "LofDT",
   "language": "python",
   "name": "python3"
  },
  "language_info": {
   "codemirror_mode": {
    "name": "ipython",
    "version": 3
   },
   "file_extension": ".py",
   "mimetype": "text/x-python",
   "name": "python",
   "nbconvert_exporter": "python",
   "pygments_lexer": "ipython3",
   "version": "3.9.2"
  }
 },
 "nbformat": 4,
 "nbformat_minor": 2
}
